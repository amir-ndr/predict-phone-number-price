{
 "cells": [
  {
   "cell_type": "markdown",
   "id": "2776b802-2dc5-4b00-be55-4cf71d50f330",
   "metadata": {},
   "source": [
    "## 1. import necessary libraries"
   ]
  },
  {
   "cell_type": "code",
   "execution_count": 1,
   "id": "e4d5155e-4723-4673-975b-c17faf79eb7d",
   "metadata": {},
   "outputs": [],
   "source": [
    "import pandas as pd\n",
    "import numpy as np\n",
    "import matplotlib.pyplot as plt"
   ]
  },
  {
   "cell_type": "markdown",
   "id": "91c26a89-b7ea-4cba-ad1a-224e3b7e75e4",
   "metadata": {},
   "source": [
    "## 2. Read Dataset using `pd.read_csv`"
   ]
  },
  {
   "cell_type": "code",
   "execution_count": 5,
   "id": "b8283a48-0cce-4415-82e8-e8481845fafe",
   "metadata": {},
   "outputs": [],
   "source": [
    "df = pd.read_csv(\"rond10000.csv\")"
   ]
  },
  {
   "cell_type": "markdown",
   "id": "ab0daf0c-c6c1-45a2-b36e-d88a998a3c79",
   "metadata": {},
   "source": [
    "## 3. Review the Data"
   ]
  },
  {
   "cell_type": "markdown",
   "id": "0a24006d-94ae-40d2-956b-d9c9f8dcdf9d",
   "metadata": {},
   "source": [
    "### 3.1 Display first 5 rows of Dataset"
   ]
  },
  {
   "cell_type": "code",
   "execution_count": 7,
   "id": "59e8e126-9837-4b5f-b4a7-46e26778eb7c",
   "metadata": {},
   "outputs": [
    {
     "data": {
      "text/html": [
       "<div>\n",
       "<style scoped>\n",
       "    .dataframe tbody tr th:only-of-type {\n",
       "        vertical-align: middle;\n",
       "    }\n",
       "\n",
       "    .dataframe tbody tr th {\n",
       "        vertical-align: top;\n",
       "    }\n",
       "\n",
       "    .dataframe thead th {\n",
       "        text-align: right;\n",
       "    }\n",
       "</style>\n",
       "<table border=\"1\" class=\"dataframe\">\n",
       "  <thead>\n",
       "    <tr style=\"text-align: right;\">\n",
       "      <th></th>\n",
       "      <th>phone_number</th>\n",
       "      <th>price</th>\n",
       "      <th>status</th>\n",
       "      <th>city</th>\n",
       "      <th>time</th>\n",
       "    </tr>\n",
       "  </thead>\n",
       "  <tbody>\n",
       "    <tr>\n",
       "      <th>0</th>\n",
       "      <td>0912 253 36 48</td>\n",
       "      <td>20,500,000</td>\n",
       "      <td>کارکرده</td>\n",
       "      <td>تهران</td>\n",
       "      <td>18 ثانیه</td>\n",
       "    </tr>\n",
       "    <tr>\n",
       "      <th>1</th>\n",
       "      <td>0912 639 49 44</td>\n",
       "      <td>16,200,000</td>\n",
       "      <td>صفر</td>\n",
       "      <td>تهران</td>\n",
       "      <td>18 ثانیه</td>\n",
       "    </tr>\n",
       "    <tr>\n",
       "      <th>2</th>\n",
       "      <td>0912 6 719 709</td>\n",
       "      <td>12,700,000</td>\n",
       "      <td>صفر</td>\n",
       "      <td>تهران</td>\n",
       "      <td>18 ثانیه</td>\n",
       "    </tr>\n",
       "    <tr>\n",
       "      <th>3</th>\n",
       "      <td>0912 359 44 96</td>\n",
       "      <td>16,300,000</td>\n",
       "      <td>صفر</td>\n",
       "      <td>تهران</td>\n",
       "      <td>18 ثانیه</td>\n",
       "    </tr>\n",
       "    <tr>\n",
       "      <th>4</th>\n",
       "      <td>0912 216 0 397</td>\n",
       "      <td>27,700,000</td>\n",
       "      <td>صفر</td>\n",
       "      <td>تهران</td>\n",
       "      <td>18 ثانیه</td>\n",
       "    </tr>\n",
       "  </tbody>\n",
       "</table>\n",
       "</div>"
      ],
      "text/plain": [
       "     phone_number       price   status   city      time\n",
       "0  0912 253 36 48  20,500,000  کارکرده  تهران  18 ثانیه\n",
       "1  0912 639 49 44  16,200,000      صفر  تهران  18 ثانیه\n",
       "2  0912 6 719 709  12,700,000      صفر  تهران  18 ثانیه\n",
       "3  0912 359 44 96  16,300,000      صفر  تهران  18 ثانیه\n",
       "4  0912 216 0 397  27,700,000      صفر  تهران  18 ثانیه"
      ]
     },
     "execution_count": 7,
     "metadata": {},
     "output_type": "execute_result"
    }
   ],
   "source": [
    "df.head()"
   ]
  },
  {
   "cell_type": "markdown",
   "id": "ff3ed575-66a4-4428-ad53-5b09568fd3ee",
   "metadata": {},
   "source": [
    "### 3.2 Check the number of samples and features"
   ]
  },
  {
   "cell_type": "code",
   "execution_count": 8,
   "id": "fad124bb-d0be-4b5d-9acc-8a01bbbd93b5",
   "metadata": {},
   "outputs": [
    {
     "data": {
      "text/plain": [
       "(285120, 5)"
      ]
     },
     "execution_count": 8,
     "metadata": {},
     "output_type": "execute_result"
    }
   ],
   "source": [
    "df.shape"
   ]
  },
  {
   "cell_type": "markdown",
   "id": "55260a6a-4d79-455b-b8db-b9166f125468",
   "metadata": {},
   "source": [
    "### 3.3 Check Data types and memory usage"
   ]
  },
  {
   "cell_type": "code",
   "execution_count": 9,
   "id": "7cfcd125-3253-40af-acb6-395a7586ae67",
   "metadata": {},
   "outputs": [
    {
     "name": "stdout",
     "output_type": "stream",
     "text": [
      "<class 'pandas.core.frame.DataFrame'>\n",
      "RangeIndex: 285120 entries, 0 to 285119\n",
      "Data columns (total 5 columns):\n",
      " #   Column        Non-Null Count   Dtype \n",
      "---  ------        --------------   ----- \n",
      " 0   phone_number  285120 non-null  object\n",
      " 1   price         285120 non-null  object\n",
      " 2   status        285120 non-null  object\n",
      " 3   city          285120 non-null  object\n",
      " 4   time          284697 non-null  object\n",
      "dtypes: object(5)\n",
      "memory usage: 10.9+ MB\n"
     ]
    }
   ],
   "source": [
    "df.info()"
   ]
  },
  {
   "cell_type": "markdown",
   "id": "dfaa09ec-7308-4a6f-90e4-82eb428b0113",
   "metadata": {},
   "source": [
    "### 3.4 Drop rows with Null values"
   ]
  },
  {
   "cell_type": "code",
   "execution_count": 10,
   "id": "3c7a44e9-305f-4341-9611-ffcc0209b8a6",
   "metadata": {},
   "outputs": [],
   "source": [
    "df.dropna(inplace=True)"
   ]
  },
  {
   "cell_type": "code",
   "execution_count": 11,
   "id": "a41bfd19-4cb9-45c0-a102-eb978dc879c2",
   "metadata": {},
   "outputs": [
    {
     "data": {
      "text/plain": [
       "(284697, 5)"
      ]
     },
     "execution_count": 11,
     "metadata": {},
     "output_type": "execute_result"
    }
   ],
   "source": [
    "df.shape"
   ]
  },
  {
   "cell_type": "markdown",
   "id": "6457a80e-83ca-4cc0-ac19-67650e8e3a46",
   "metadata": {},
   "source": [
    "### 3.5 Drop duplicated rows"
   ]
  },
  {
   "cell_type": "code",
   "execution_count": 12,
   "id": "54c6b899-cfa8-44aa-afc2-ed757694ea48",
   "metadata": {},
   "outputs": [
    {
     "data": {
      "text/plain": [
       "30727"
      ]
     },
     "execution_count": 12,
     "metadata": {},
     "output_type": "execute_result"
    }
   ],
   "source": [
    "df.duplicated().sum()"
   ]
  },
  {
   "cell_type": "code",
   "execution_count": 13,
   "id": "6c201ed1-bf05-44b0-888e-3b0b1ec3aec6",
   "metadata": {},
   "outputs": [],
   "source": [
    "df.drop_duplicates(inplace=True)"
   ]
  },
  {
   "cell_type": "code",
   "execution_count": 14,
   "id": "cb05291e-25ba-4919-8bae-f0c80ff4a04b",
   "metadata": {},
   "outputs": [
    {
     "data": {
      "text/plain": [
       "(253970, 5)"
      ]
     },
     "execution_count": 14,
     "metadata": {},
     "output_type": "execute_result"
    }
   ],
   "source": [
    "df.shape"
   ]
  },
  {
   "cell_type": "markdown",
   "id": "ab27a360-0d76-40b6-8d19-6b0ffa894504",
   "metadata": {},
   "source": [
    "## 4. Pre Process Dataset"
   ]
  },
  {
   "cell_type": "markdown",
   "id": "a3ae080e-b4a0-4075-8b01-28dccacb57ed",
   "metadata": {},
   "source": [
    "### 4.1 `price` column"
   ]
  },
  {
   "cell_type": "code",
   "execution_count": 15,
   "id": "96906d9b-bde0-4f47-a4e4-710beae03ee6",
   "metadata": {},
   "outputs": [],
   "source": [
    "def process_price(price):\n",
    "    price = price.replace(',' , '')\n",
    "    if price.isdigit():\n",
    "        return int(price)\n",
    "    return np.nan"
   ]
  },
  {
   "cell_type": "code",
   "execution_count": 16,
   "id": "86774579-08ef-4b1b-bb5c-5460497f851a",
   "metadata": {},
   "outputs": [],
   "source": [
    "df.price = df.price.apply(process_price)"
   ]
  },
  {
   "cell_type": "code",
   "execution_count": 17,
   "id": "dc43d1e6-e554-4a37-be56-9e0329f311be",
   "metadata": {},
   "outputs": [
    {
     "data": {
      "text/html": [
       "<div>\n",
       "<style scoped>\n",
       "    .dataframe tbody tr th:only-of-type {\n",
       "        vertical-align: middle;\n",
       "    }\n",
       "\n",
       "    .dataframe tbody tr th {\n",
       "        vertical-align: top;\n",
       "    }\n",
       "\n",
       "    .dataframe thead th {\n",
       "        text-align: right;\n",
       "    }\n",
       "</style>\n",
       "<table border=\"1\" class=\"dataframe\">\n",
       "  <thead>\n",
       "    <tr style=\"text-align: right;\">\n",
       "      <th></th>\n",
       "      <th>phone_number</th>\n",
       "      <th>price</th>\n",
       "      <th>status</th>\n",
       "      <th>city</th>\n",
       "      <th>time</th>\n",
       "    </tr>\n",
       "  </thead>\n",
       "  <tbody>\n",
       "    <tr>\n",
       "      <th>0</th>\n",
       "      <td>0912 253 36 48</td>\n",
       "      <td>20500000.0</td>\n",
       "      <td>کارکرده</td>\n",
       "      <td>تهران</td>\n",
       "      <td>18 ثانیه</td>\n",
       "    </tr>\n",
       "    <tr>\n",
       "      <th>1</th>\n",
       "      <td>0912 639 49 44</td>\n",
       "      <td>16200000.0</td>\n",
       "      <td>صفر</td>\n",
       "      <td>تهران</td>\n",
       "      <td>18 ثانیه</td>\n",
       "    </tr>\n",
       "    <tr>\n",
       "      <th>2</th>\n",
       "      <td>0912 6 719 709</td>\n",
       "      <td>12700000.0</td>\n",
       "      <td>صفر</td>\n",
       "      <td>تهران</td>\n",
       "      <td>18 ثانیه</td>\n",
       "    </tr>\n",
       "    <tr>\n",
       "      <th>3</th>\n",
       "      <td>0912 359 44 96</td>\n",
       "      <td>16300000.0</td>\n",
       "      <td>صفر</td>\n",
       "      <td>تهران</td>\n",
       "      <td>18 ثانیه</td>\n",
       "    </tr>\n",
       "    <tr>\n",
       "      <th>4</th>\n",
       "      <td>0912 216 0 397</td>\n",
       "      <td>27700000.0</td>\n",
       "      <td>صفر</td>\n",
       "      <td>تهران</td>\n",
       "      <td>18 ثانیه</td>\n",
       "    </tr>\n",
       "  </tbody>\n",
       "</table>\n",
       "</div>"
      ],
      "text/plain": [
       "     phone_number       price   status   city      time\n",
       "0  0912 253 36 48  20500000.0  کارکرده  تهران  18 ثانیه\n",
       "1  0912 639 49 44  16200000.0      صفر  تهران  18 ثانیه\n",
       "2  0912 6 719 709  12700000.0      صفر  تهران  18 ثانیه\n",
       "3  0912 359 44 96  16300000.0      صفر  تهران  18 ثانیه\n",
       "4  0912 216 0 397  27700000.0      صفر  تهران  18 ثانیه"
      ]
     },
     "execution_count": 17,
     "metadata": {},
     "output_type": "execute_result"
    }
   ],
   "source": [
    "df.head()"
   ]
  },
  {
   "cell_type": "code",
   "execution_count": 18,
   "id": "8dee1610-60b2-4918-a01f-037977236bee",
   "metadata": {},
   "outputs": [
    {
     "data": {
      "text/plain": [
       "phone_number        0\n",
       "price           30571\n",
       "status              0\n",
       "city                0\n",
       "time                0\n",
       "dtype: int64"
      ]
     },
     "execution_count": 18,
     "metadata": {},
     "output_type": "execute_result"
    }
   ],
   "source": [
    "df.isnull().sum()"
   ]
  },
  {
   "cell_type": "code",
   "execution_count": 19,
   "id": "ab86eaea-07d2-4471-85e8-98213de001b3",
   "metadata": {},
   "outputs": [],
   "source": [
    "df.dropna(inplace=True)"
   ]
  },
  {
   "cell_type": "code",
   "execution_count": 20,
   "id": "b4b14234-5e8a-4220-87d9-d171c7a33ea1",
   "metadata": {},
   "outputs": [
    {
     "data": {
      "text/plain": [
       "(223399, 5)"
      ]
     },
     "execution_count": 20,
     "metadata": {},
     "output_type": "execute_result"
    }
   ],
   "source": [
    "df.shape"
   ]
  },
  {
   "cell_type": "markdown",
   "id": "c0c989b9-d672-4374-87d9-b2ebe7085228",
   "metadata": {},
   "source": [
    "### 4.2 `status` column"
   ]
  },
  {
   "cell_type": "code",
   "execution_count": 21,
   "id": "3fc35728-2858-4d24-8fcf-91bfbee3708a",
   "metadata": {},
   "outputs": [],
   "source": [
    "status_values = df.status.unique()"
   ]
  },
  {
   "cell_type": "code",
   "execution_count": 22,
   "id": "59ce29a8-ef9a-495f-9fa4-60ad3aa05319",
   "metadata": {},
   "outputs": [
    {
     "data": {
      "text/plain": [
       "array(['کارکرده', 'صفر', 'در حد صفر'], dtype=object)"
      ]
     },
     "execution_count": 22,
     "metadata": {},
     "output_type": "execute_result"
    }
   ],
   "source": [
    "status_values"
   ]
  },
  {
   "cell_type": "code",
   "execution_count": 23,
   "id": "0561616c-22d3-4be6-bd22-c2fc116852df",
   "metadata": {},
   "outputs": [],
   "source": [
    "status_values[1] , status_values[2] = status_values[2] , status_values[1]"
   ]
  },
  {
   "cell_type": "code",
   "execution_count": 24,
   "id": "63fa7575-a196-4bb3-b59f-d0d75f85c89e",
   "metadata": {},
   "outputs": [],
   "source": [
    "status_map = {status:index for index , status in enumerate(status_values)}"
   ]
  },
  {
   "cell_type": "code",
   "execution_count": 25,
   "id": "37688695-d81c-4879-8a92-74ac484cd138",
   "metadata": {},
   "outputs": [
    {
     "data": {
      "text/plain": [
       "{'کارکرده': 0, 'در حد صفر': 1, 'صفر': 2}"
      ]
     },
     "execution_count": 25,
     "metadata": {},
     "output_type": "execute_result"
    }
   ],
   "source": [
    "status_map"
   ]
  },
  {
   "cell_type": "code",
   "execution_count": 26,
   "id": "db245d1f-8a76-4388-bb3f-0f9ef8dcacde",
   "metadata": {},
   "outputs": [],
   "source": [
    "df.status = df.status.map(status_map)"
   ]
  },
  {
   "cell_type": "code",
   "execution_count": 27,
   "id": "30268213-90cd-4eff-a863-3e101381da66",
   "metadata": {},
   "outputs": [
    {
     "data": {
      "text/html": [
       "<div>\n",
       "<style scoped>\n",
       "    .dataframe tbody tr th:only-of-type {\n",
       "        vertical-align: middle;\n",
       "    }\n",
       "\n",
       "    .dataframe tbody tr th {\n",
       "        vertical-align: top;\n",
       "    }\n",
       "\n",
       "    .dataframe thead th {\n",
       "        text-align: right;\n",
       "    }\n",
       "</style>\n",
       "<table border=\"1\" class=\"dataframe\">\n",
       "  <thead>\n",
       "    <tr style=\"text-align: right;\">\n",
       "      <th></th>\n",
       "      <th>phone_number</th>\n",
       "      <th>price</th>\n",
       "      <th>status</th>\n",
       "      <th>city</th>\n",
       "      <th>time</th>\n",
       "    </tr>\n",
       "  </thead>\n",
       "  <tbody>\n",
       "    <tr>\n",
       "      <th>0</th>\n",
       "      <td>0912 253 36 48</td>\n",
       "      <td>20500000.0</td>\n",
       "      <td>0</td>\n",
       "      <td>تهران</td>\n",
       "      <td>18 ثانیه</td>\n",
       "    </tr>\n",
       "    <tr>\n",
       "      <th>1</th>\n",
       "      <td>0912 639 49 44</td>\n",
       "      <td>16200000.0</td>\n",
       "      <td>2</td>\n",
       "      <td>تهران</td>\n",
       "      <td>18 ثانیه</td>\n",
       "    </tr>\n",
       "    <tr>\n",
       "      <th>2</th>\n",
       "      <td>0912 6 719 709</td>\n",
       "      <td>12700000.0</td>\n",
       "      <td>2</td>\n",
       "      <td>تهران</td>\n",
       "      <td>18 ثانیه</td>\n",
       "    </tr>\n",
       "    <tr>\n",
       "      <th>3</th>\n",
       "      <td>0912 359 44 96</td>\n",
       "      <td>16300000.0</td>\n",
       "      <td>2</td>\n",
       "      <td>تهران</td>\n",
       "      <td>18 ثانیه</td>\n",
       "    </tr>\n",
       "    <tr>\n",
       "      <th>4</th>\n",
       "      <td>0912 216 0 397</td>\n",
       "      <td>27700000.0</td>\n",
       "      <td>2</td>\n",
       "      <td>تهران</td>\n",
       "      <td>18 ثانیه</td>\n",
       "    </tr>\n",
       "  </tbody>\n",
       "</table>\n",
       "</div>"
      ],
      "text/plain": [
       "     phone_number       price  status   city      time\n",
       "0  0912 253 36 48  20500000.0       0  تهران  18 ثانیه\n",
       "1  0912 639 49 44  16200000.0       2  تهران  18 ثانیه\n",
       "2  0912 6 719 709  12700000.0       2  تهران  18 ثانیه\n",
       "3  0912 359 44 96  16300000.0       2  تهران  18 ثانیه\n",
       "4  0912 216 0 397  27700000.0       2  تهران  18 ثانیه"
      ]
     },
     "execution_count": 27,
     "metadata": {},
     "output_type": "execute_result"
    }
   ],
   "source": [
    "df.head()"
   ]
  },
  {
   "cell_type": "markdown",
   "id": "85759330-ffdc-4106-b43c-8f287a820210",
   "metadata": {},
   "source": [
    "### 4.3 `city` column"
   ]
  },
  {
   "cell_type": "markdown",
   "id": "e24efd5f-7022-4f3a-8756-305e385ae10a",
   "metadata": {},
   "source": [
    "#### 4.3.1 Check city names and their size"
   ]
  },
  {
   "cell_type": "code",
   "execution_count": 28,
   "id": "4f126083-81ec-49c0-a08a-ddda9c25ceb7",
   "metadata": {},
   "outputs": [],
   "source": [
    "cities = df.city.unique()"
   ]
  },
  {
   "cell_type": "code",
   "execution_count": 29,
   "id": "d53f5162-3ab4-4fae-8f9f-fe70d22e6bba",
   "metadata": {},
   "outputs": [
    {
     "data": {
      "text/plain": [
       "114"
      ]
     },
     "execution_count": 29,
     "metadata": {},
     "output_type": "execute_result"
    }
   ],
   "source": [
    "len(cities)"
   ]
  },
  {
   "cell_type": "code",
   "execution_count": 30,
   "id": "1b893a6e-6376-4c42-86ce-4f77d30684ed",
   "metadata": {},
   "outputs": [
    {
     "data": {
      "text/plain": [
       "array(['تهران', 'شمیرانات', 'کرج', 'شيراز', 'گرگان', 'ميانه', 'اردبيل',\n",
       "       'کرمان', 'اهواز', 'مشهد', 'ساری', 'بندر عباس', 'اراک', 'تبريز',\n",
       "       'رشت', 'اصفهان', 'گراش', 'بابلسر', 'قزوين', 'آمل', 'يزد',\n",
       "       'کرمانشاه', 'قم', 'اسلام شهر', 'سمنان', 'کاشان', 'شهرضا',\n",
       "       'لارستان', 'دشتستان', 'زنجان', 'پيرانشهر', 'همدان', 'بابل',\n",
       "       'رباط کريم', 'دماوند', 'دزفول', 'نيشابور', 'فردیس', 'بوشهر',\n",
       "       'اليگودرز', 'شهرکرد', 'جهرم', 'ری', 'پارس آباد', 'خنج', 'ابهر',\n",
       "       'سلماس', 'کهگيلويه', 'قشم', 'بندر ماهشهر', 'مرودشت', 'کازرون',\n",
       "       'زاهدان', 'اروميه', 'بهارستان', 'آران و بيدگل', 'ساوه', 'گناباد',\n",
       "       'آباده', 'پیشوا', 'نائين', 'ايلام', 'نجف آباد', 'چالوس',\n",
       "       'قائم شهر', 'بانه', 'سر دشت', 'سنندج', 'بجنورد', 'شهريار',\n",
       "       'خرم آباد', 'آبادان', 'قدس', 'بروجن', 'زرنديه', 'ابرکوه', 'ماکو',\n",
       "       'خوي', 'گنبد کاووس', 'گچساران', 'ايرانشهر', 'بيرجند', 'آشتيان',\n",
       "       'سيرجان', 'فریدونکنار', 'زابل', 'رفسنجان', 'بروجرد', 'آذر شهر',\n",
       "       'آبيک', 'بم', 'خمينی شهر', 'ميبد', 'قروه', 'کامياران',\n",
       "       'اسلام آباد غرب', 'سقز', 'مريوان', 'ملاير', 'ازنا', 'اسدآباد',\n",
       "       'آستارا', 'کبودر آهنگ', 'شبستر', 'مهاباد', 'آبدانان', 'کنگاور',\n",
       "       'باخرز', 'درگز', 'خواف', 'چابهار', 'نيک شهر', 'سراوان',\n",
       "       'سیب سوران'], dtype=object)"
      ]
     },
     "execution_count": 30,
     "metadata": {},
     "output_type": "execute_result"
    }
   ],
   "source": [
    "cities"
   ]
  },
  {
   "cell_type": "markdown",
   "id": "534165c0-1463-46c0-9cca-22268b522060",
   "metadata": {},
   "source": [
    "#### 4.3.2 Encode city names using `category_encoders.BinaryEncoder` "
   ]
  },
  {
   "cell_type": "code",
   "execution_count": 32,
   "id": "0ec76ddd-5686-46a1-8744-01fa5c4b0afa",
   "metadata": {},
   "outputs": [],
   "source": [
    "import category_encoders as ce"
   ]
  },
  {
   "cell_type": "code",
   "execution_count": 33,
   "id": "84e63850-80e2-43f2-8d15-29f69b2404bc",
   "metadata": {},
   "outputs": [],
   "source": [
    "binary_encoder = ce.BinaryEncoder(cols=['city'])\n",
    "df = binary_encoder.fit_transform(df)"
   ]
  },
  {
   "cell_type": "code",
   "execution_count": 36,
   "id": "56741487-7dd4-402c-98b1-370e3386f75a",
   "metadata": {},
   "outputs": [
    {
     "data": {
      "text/html": [
       "<div>\n",
       "<style scoped>\n",
       "    .dataframe tbody tr th:only-of-type {\n",
       "        vertical-align: middle;\n",
       "    }\n",
       "\n",
       "    .dataframe tbody tr th {\n",
       "        vertical-align: top;\n",
       "    }\n",
       "\n",
       "    .dataframe thead th {\n",
       "        text-align: right;\n",
       "    }\n",
       "</style>\n",
       "<table border=\"1\" class=\"dataframe\">\n",
       "  <thead>\n",
       "    <tr style=\"text-align: right;\">\n",
       "      <th></th>\n",
       "      <th>phone_number</th>\n",
       "      <th>price</th>\n",
       "      <th>status</th>\n",
       "      <th>city_0</th>\n",
       "      <th>city_1</th>\n",
       "      <th>city_2</th>\n",
       "      <th>city_3</th>\n",
       "      <th>city_4</th>\n",
       "      <th>city_5</th>\n",
       "      <th>city_6</th>\n",
       "      <th>time</th>\n",
       "    </tr>\n",
       "  </thead>\n",
       "  <tbody>\n",
       "    <tr>\n",
       "      <th>0</th>\n",
       "      <td>0912 253 36 48</td>\n",
       "      <td>20500000.0</td>\n",
       "      <td>0</td>\n",
       "      <td>0</td>\n",
       "      <td>0</td>\n",
       "      <td>0</td>\n",
       "      <td>0</td>\n",
       "      <td>0</td>\n",
       "      <td>0</td>\n",
       "      <td>1</td>\n",
       "      <td>18 ثانیه</td>\n",
       "    </tr>\n",
       "    <tr>\n",
       "      <th>1</th>\n",
       "      <td>0912 639 49 44</td>\n",
       "      <td>16200000.0</td>\n",
       "      <td>2</td>\n",
       "      <td>0</td>\n",
       "      <td>0</td>\n",
       "      <td>0</td>\n",
       "      <td>0</td>\n",
       "      <td>0</td>\n",
       "      <td>0</td>\n",
       "      <td>1</td>\n",
       "      <td>18 ثانیه</td>\n",
       "    </tr>\n",
       "    <tr>\n",
       "      <th>2</th>\n",
       "      <td>0912 6 719 709</td>\n",
       "      <td>12700000.0</td>\n",
       "      <td>2</td>\n",
       "      <td>0</td>\n",
       "      <td>0</td>\n",
       "      <td>0</td>\n",
       "      <td>0</td>\n",
       "      <td>0</td>\n",
       "      <td>0</td>\n",
       "      <td>1</td>\n",
       "      <td>18 ثانیه</td>\n",
       "    </tr>\n",
       "    <tr>\n",
       "      <th>3</th>\n",
       "      <td>0912 359 44 96</td>\n",
       "      <td>16300000.0</td>\n",
       "      <td>2</td>\n",
       "      <td>0</td>\n",
       "      <td>0</td>\n",
       "      <td>0</td>\n",
       "      <td>0</td>\n",
       "      <td>0</td>\n",
       "      <td>0</td>\n",
       "      <td>1</td>\n",
       "      <td>18 ثانیه</td>\n",
       "    </tr>\n",
       "    <tr>\n",
       "      <th>4</th>\n",
       "      <td>0912 216 0 397</td>\n",
       "      <td>27700000.0</td>\n",
       "      <td>2</td>\n",
       "      <td>0</td>\n",
       "      <td>0</td>\n",
       "      <td>0</td>\n",
       "      <td>0</td>\n",
       "      <td>0</td>\n",
       "      <td>0</td>\n",
       "      <td>1</td>\n",
       "      <td>18 ثانیه</td>\n",
       "    </tr>\n",
       "  </tbody>\n",
       "</table>\n",
       "</div>"
      ],
      "text/plain": [
       "     phone_number       price  status  city_0  city_1  city_2  city_3  city_4  \\\n",
       "0  0912 253 36 48  20500000.0       0       0       0       0       0       0   \n",
       "1  0912 639 49 44  16200000.0       2       0       0       0       0       0   \n",
       "2  0912 6 719 709  12700000.0       2       0       0       0       0       0   \n",
       "3  0912 359 44 96  16300000.0       2       0       0       0       0       0   \n",
       "4  0912 216 0 397  27700000.0       2       0       0       0       0       0   \n",
       "\n",
       "   city_5  city_6      time  \n",
       "0       0       1  18 ثانیه  \n",
       "1       0       1  18 ثانیه  \n",
       "2       0       1  18 ثانیه  \n",
       "3       0       1  18 ثانیه  \n",
       "4       0       1  18 ثانیه  "
      ]
     },
     "execution_count": 36,
     "metadata": {},
     "output_type": "execute_result"
    }
   ],
   "source": [
    "df.head()"
   ]
  },
  {
   "cell_type": "markdown",
   "id": "01a77260-2a7c-4bcf-b89c-9e247762e71b",
   "metadata": {},
   "source": [
    "### 4.4 `time` column"
   ]
  },
  {
   "cell_type": "code",
   "execution_count": 37,
   "id": "b379d854-148f-485f-ad0c-2acd656d9c47",
   "metadata": {},
   "outputs": [],
   "source": [
    "times = df.time"
   ]
  },
  {
   "cell_type": "code",
   "execution_count": 38,
   "id": "2f0ed035-1043-4dba-93c9-b275e722a182",
   "metadata": {},
   "outputs": [
    {
     "data": {
      "text/plain": [
       "0          18 ثانیه\n",
       "1          18 ثانیه\n",
       "2          18 ثانیه\n",
       "3          18 ثانیه\n",
       "4          18 ثانیه\n",
       "            ...    \n",
       "285115    1 روز پیش\n",
       "285116    1 روز پیش\n",
       "285117    1 روز پیش\n",
       "285118    1 روز پیش\n",
       "285119    1 روز پیش\n",
       "Name: time, Length: 223399, dtype: object"
      ]
     },
     "execution_count": 38,
     "metadata": {},
     "output_type": "execute_result"
    }
   ],
   "source": [
    "times"
   ]
  },
  {
   "cell_type": "markdown",
   "id": "3fa6e0f1-adc1-4883-a3fe-feaeaaefcb64",
   "metadata": {},
   "source": [
    "#### 4.4.1 Define `regex` patterns for splitting digits and words"
   ]
  },
  {
   "cell_type": "code",
   "execution_count": 39,
   "id": "b9910db7-e1ab-4a8d-9eba-fd05a6d347fc",
   "metadata": {},
   "outputs": [],
   "source": [
    "import re\n",
    "pattern = r'(\\d+) ([^\\d]+)'"
   ]
  },
  {
   "cell_type": "code",
   "execution_count": 40,
   "id": "b771ebe8-e8ae-4369-8a93-c0be0302a355",
   "metadata": {},
   "outputs": [],
   "source": [
    "res = [re.findall(pattern , text)[0] for text in times]"
   ]
  },
  {
   "cell_type": "code",
   "execution_count": 41,
   "id": "b44cb112-6ca9-4c56-b7ad-e20fdae3ca3e",
   "metadata": {},
   "outputs": [
    {
     "data": {
      "text/plain": [
       "[('18', 'ثانیه'),\n",
       " ('18', 'ثانیه'),\n",
       " ('18', 'ثانیه'),\n",
       " ('18', 'ثانیه'),\n",
       " ('18', 'ثانیه')]"
      ]
     },
     "execution_count": 41,
     "metadata": {},
     "output_type": "execute_result"
    }
   ],
   "source": [
    "res[:5]"
   ]
  },
  {
   "cell_type": "markdown",
   "id": "a39e62dc-49c6-48cf-a4a6-c53c09f93596",
   "metadata": {},
   "source": [
    "#### 4.4.2 Extract time units"
   ]
  },
  {
   "cell_type": "code",
   "execution_count": 42,
   "id": "01d91a9b-8998-4c04-b088-009d6d2afdd2",
   "metadata": {},
   "outputs": [],
   "source": [
    "time_units = set()\n",
    "for units in res:\n",
    "    time_units.add(units[1])"
   ]
  },
  {
   "cell_type": "code",
   "execution_count": 43,
   "id": "654295b8-e5cb-45b5-8bf2-e243d15d9f68",
   "metadata": {},
   "outputs": [
    {
     "data": {
      "text/plain": [
       "['ثانیه', 'ساعت', 'روز پیش', 'دقیقه']"
      ]
     },
     "execution_count": 43,
     "metadata": {},
     "output_type": "execute_result"
    }
   ],
   "source": [
    "time_units = list(time_units)\n",
    "time_units"
   ]
  },
  {
   "cell_type": "code",
   "execution_count": 49,
   "id": "69c67757-582b-4b25-abfe-aaedcc34b7f4",
   "metadata": {},
   "outputs": [
    {
     "data": {
      "text/plain": [
       "'ساعت'"
      ]
     },
     "execution_count": 49,
     "metadata": {},
     "output_type": "execute_result"
    }
   ],
   "source": [
    "time_units[1]"
   ]
  },
  {
   "cell_type": "markdown",
   "id": "f2a6cc79-6e8a-45ec-9983-b976d71207b9",
   "metadata": {},
   "source": [
    "#### 4.4.3 Convert all `time_units` to seconds"
   ]
  },
  {
   "cell_type": "code",
   "execution_count": 50,
   "id": "58ad810e-9e88-4e05-8bd6-09938ac12765",
   "metadata": {},
   "outputs": [],
   "source": [
    "time_units_map = {\n",
    "    time_units[3]:60 ,\n",
    "    time_units[2]:60*60*24 ,\n",
    "    time_units[1]: 3600 ,\n",
    "    time_units[0]:1\n",
    "}"
   ]
  },
  {
   "cell_type": "code",
   "execution_count": 51,
   "id": "069d3820-3582-4433-8ad7-b5d358a792fb",
   "metadata": {},
   "outputs": [],
   "source": [
    "preProcessed_time = [int(unit[0]) * time_units_map[unit[1]] for unit in res]"
   ]
  },
  {
   "cell_type": "code",
   "execution_count": 52,
   "id": "0150d6f2-ad30-42a7-aa96-78522a570b68",
   "metadata": {},
   "outputs": [
    {
     "data": {
      "text/plain": [
       "[18, 18, 18, 18, 18]"
      ]
     },
     "execution_count": 52,
     "metadata": {},
     "output_type": "execute_result"
    }
   ],
   "source": [
    "preProcessed_time[:5]"
   ]
  },
  {
   "cell_type": "code",
   "execution_count": 53,
   "id": "543f8ec5-a9a6-4614-87db-23bf5df934be",
   "metadata": {},
   "outputs": [],
   "source": [
    "df.time = preProcessed_time"
   ]
  },
  {
   "cell_type": "code",
   "execution_count": 54,
   "id": "a5a576ed-1842-4ab0-931b-39fb1687369b",
   "metadata": {},
   "outputs": [
    {
     "data": {
      "text/html": [
       "<div>\n",
       "<style scoped>\n",
       "    .dataframe tbody tr th:only-of-type {\n",
       "        vertical-align: middle;\n",
       "    }\n",
       "\n",
       "    .dataframe tbody tr th {\n",
       "        vertical-align: top;\n",
       "    }\n",
       "\n",
       "    .dataframe thead th {\n",
       "        text-align: right;\n",
       "    }\n",
       "</style>\n",
       "<table border=\"1\" class=\"dataframe\">\n",
       "  <thead>\n",
       "    <tr style=\"text-align: right;\">\n",
       "      <th></th>\n",
       "      <th>phone_number</th>\n",
       "      <th>price</th>\n",
       "      <th>status</th>\n",
       "      <th>city_0</th>\n",
       "      <th>city_1</th>\n",
       "      <th>city_2</th>\n",
       "      <th>city_3</th>\n",
       "      <th>city_4</th>\n",
       "      <th>city_5</th>\n",
       "      <th>city_6</th>\n",
       "      <th>time</th>\n",
       "    </tr>\n",
       "  </thead>\n",
       "  <tbody>\n",
       "    <tr>\n",
       "      <th>0</th>\n",
       "      <td>0912 253 36 48</td>\n",
       "      <td>20500000.0</td>\n",
       "      <td>0</td>\n",
       "      <td>0</td>\n",
       "      <td>0</td>\n",
       "      <td>0</td>\n",
       "      <td>0</td>\n",
       "      <td>0</td>\n",
       "      <td>0</td>\n",
       "      <td>1</td>\n",
       "      <td>18</td>\n",
       "    </tr>\n",
       "    <tr>\n",
       "      <th>1</th>\n",
       "      <td>0912 639 49 44</td>\n",
       "      <td>16200000.0</td>\n",
       "      <td>2</td>\n",
       "      <td>0</td>\n",
       "      <td>0</td>\n",
       "      <td>0</td>\n",
       "      <td>0</td>\n",
       "      <td>0</td>\n",
       "      <td>0</td>\n",
       "      <td>1</td>\n",
       "      <td>18</td>\n",
       "    </tr>\n",
       "    <tr>\n",
       "      <th>2</th>\n",
       "      <td>0912 6 719 709</td>\n",
       "      <td>12700000.0</td>\n",
       "      <td>2</td>\n",
       "      <td>0</td>\n",
       "      <td>0</td>\n",
       "      <td>0</td>\n",
       "      <td>0</td>\n",
       "      <td>0</td>\n",
       "      <td>0</td>\n",
       "      <td>1</td>\n",
       "      <td>18</td>\n",
       "    </tr>\n",
       "    <tr>\n",
       "      <th>3</th>\n",
       "      <td>0912 359 44 96</td>\n",
       "      <td>16300000.0</td>\n",
       "      <td>2</td>\n",
       "      <td>0</td>\n",
       "      <td>0</td>\n",
       "      <td>0</td>\n",
       "      <td>0</td>\n",
       "      <td>0</td>\n",
       "      <td>0</td>\n",
       "      <td>1</td>\n",
       "      <td>18</td>\n",
       "    </tr>\n",
       "    <tr>\n",
       "      <th>4</th>\n",
       "      <td>0912 216 0 397</td>\n",
       "      <td>27700000.0</td>\n",
       "      <td>2</td>\n",
       "      <td>0</td>\n",
       "      <td>0</td>\n",
       "      <td>0</td>\n",
       "      <td>0</td>\n",
       "      <td>0</td>\n",
       "      <td>0</td>\n",
       "      <td>1</td>\n",
       "      <td>18</td>\n",
       "    </tr>\n",
       "  </tbody>\n",
       "</table>\n",
       "</div>"
      ],
      "text/plain": [
       "     phone_number       price  status  city_0  city_1  city_2  city_3  city_4  \\\n",
       "0  0912 253 36 48  20500000.0       0       0       0       0       0       0   \n",
       "1  0912 639 49 44  16200000.0       2       0       0       0       0       0   \n",
       "2  0912 6 719 709  12700000.0       2       0       0       0       0       0   \n",
       "3  0912 359 44 96  16300000.0       2       0       0       0       0       0   \n",
       "4  0912 216 0 397  27700000.0       2       0       0       0       0       0   \n",
       "\n",
       "   city_5  city_6  time  \n",
       "0       0       1    18  \n",
       "1       0       1    18  \n",
       "2       0       1    18  \n",
       "3       0       1    18  \n",
       "4       0       1    18  "
      ]
     },
     "execution_count": 54,
     "metadata": {},
     "output_type": "execute_result"
    }
   ],
   "source": [
    "df.head()"
   ]
  },
  {
   "cell_type": "markdown",
   "id": "2a52e8d0-0a5f-4356-bbd5-85cf0908281d",
   "metadata": {},
   "source": [
    "### 4.5 `phone_number` column"
   ]
  },
  {
   "cell_type": "code",
   "execution_count": 55,
   "id": "ebfe6dda-1fdb-461e-9108-2ec31d8a1f56",
   "metadata": {},
   "outputs": [],
   "source": [
    "phone_numbers = df.phone_number"
   ]
  },
  {
   "cell_type": "code",
   "execution_count": 56,
   "id": "09d18dbd-1742-4cad-b598-2f4ff89ea1e2",
   "metadata": {},
   "outputs": [],
   "source": [
    "def preprocess_phone(num):\n",
    "    num = num.replace(\" \", \"\")\n",
    "    if num[0] == '0': num = num[1:]\n",
    "    if len(num) == 10:\n",
    "        return num\n",
    "    return np.nan"
   ]
  },
  {
   "cell_type": "code",
   "execution_count": 57,
   "id": "1f65a267-f48f-4d00-9f44-ee46cea9fca6",
   "metadata": {},
   "outputs": [],
   "source": [
    "phone_numbers = phone_numbers.apply(preprocess_phone)"
   ]
  },
  {
   "cell_type": "code",
   "execution_count": 58,
   "id": "a8470d8f-0f81-4ded-acd5-1b35a010670e",
   "metadata": {},
   "outputs": [],
   "source": [
    "df.phone_number = phone_numbers"
   ]
  },
  {
   "cell_type": "markdown",
   "id": "0c532150-f0f0-4658-8932-dbb378bf1025",
   "metadata": {},
   "source": [
    "## 5. Drop rows with `NaN` values"
   ]
  },
  {
   "cell_type": "code",
   "execution_count": 59,
   "id": "18126489-83db-482e-b873-95765a2b1334",
   "metadata": {},
   "outputs": [
    {
     "data": {
      "text/plain": [
       "phone_number    0\n",
       "price           0\n",
       "status          0\n",
       "city_0          0\n",
       "city_1          0\n",
       "city_2          0\n",
       "city_3          0\n",
       "city_4          0\n",
       "city_5          0\n",
       "city_6          0\n",
       "time            0\n",
       "dtype: int64"
      ]
     },
     "execution_count": 59,
     "metadata": {},
     "output_type": "execute_result"
    }
   ],
   "source": [
    "df.isnull().sum()"
   ]
  },
  {
   "cell_type": "code",
   "execution_count": 60,
   "id": "53b2bef7-327d-4c21-a549-fe232fe2c9ee",
   "metadata": {},
   "outputs": [],
   "source": [
    "df.dropna(inplace=True)"
   ]
  },
  {
   "cell_type": "code",
   "execution_count": 61,
   "id": "bb219330-6be2-44b5-8fc1-5e98d8291ce5",
   "metadata": {},
   "outputs": [
    {
     "name": "stdout",
     "output_type": "stream",
     "text": [
      "<class 'pandas.core.frame.DataFrame'>\n",
      "Int64Index: 223399 entries, 0 to 285119\n",
      "Data columns (total 11 columns):\n",
      " #   Column        Non-Null Count   Dtype  \n",
      "---  ------        --------------   -----  \n",
      " 0   phone_number  223399 non-null  object \n",
      " 1   price         223399 non-null  float64\n",
      " 2   status        223399 non-null  int64  \n",
      " 3   city_0        223399 non-null  int64  \n",
      " 4   city_1        223399 non-null  int64  \n",
      " 5   city_2        223399 non-null  int64  \n",
      " 6   city_3        223399 non-null  int64  \n",
      " 7   city_4        223399 non-null  int64  \n",
      " 8   city_5        223399 non-null  int64  \n",
      " 9   city_6        223399 non-null  int64  \n",
      " 10  time          223399 non-null  int64  \n",
      "dtypes: float64(1), int64(9), object(1)\n",
      "memory usage: 20.5+ MB\n"
     ]
    }
   ],
   "source": [
    "df.info()"
   ]
  },
  {
   "cell_type": "markdown",
   "id": "03023a27-069b-47af-9883-9b0bba0683eb",
   "metadata": {},
   "source": [
    "## 6. Feature Extraction"
   ]
  },
  {
   "cell_type": "code",
   "execution_count": 62,
   "id": "c1b5bc24-27f2-4a66-bf2b-68cb682b9931",
   "metadata": {},
   "outputs": [],
   "source": [
    "area_code = set()\n",
    "for num in df.phone_number:\n",
    "    area_code.add(num[:3])\n",
    "area_code_lst = list(area_code)"
   ]
  },
  {
   "cell_type": "code",
   "execution_count": 63,
   "id": "9f8ee83e-6a9c-4291-95be-3080ebf2b709",
   "metadata": {},
   "outputs": [
    {
     "data": {
      "text/plain": [
       "32"
      ]
     },
     "execution_count": 63,
     "metadata": {},
     "output_type": "execute_result"
    }
   ],
   "source": [
    "len(area_code_lst)"
   ]
  },
  {
   "cell_type": "code",
   "execution_count": 65,
   "id": "0fd5d4a9-758d-4116-b069-81a9a2e3b9b3",
   "metadata": {},
   "outputs": [],
   "source": [
    "def number_features(df):\n",
    "    \n",
    "    #last 7 number all same\n",
    "    def allCharactersSame(s) :\n",
    "        n = len(s)\n",
    "        for i in range(1, n) :\n",
    "            if s[i] != s[0] :\n",
    "                return False\n",
    "        return True\n",
    "    df['last_7_sim'] = [1 if allCharactersSame(num[3:]) else 0 for num in df['phone_number']]\n",
    "    \n",
    "    #last 6 number all same\n",
    "    df['last_6_sim'] = [1 if (allCharactersSame(num[4:]) and num[3]!=num[4]) else 0 for num in df['phone_number']]\n",
    "    \n",
    "    #first 6 number all same\n",
    "    df['first_6_sim'] = [1 if (allCharactersSame(num[3:9]) and num[8]!=num[9]) else 0 for num in df['phone_number']]\n",
    "    \n",
    "    #3 pair_last\n",
    "    df['three_pair_last'] = [1 if ((num[4:6]==num[6:8]) and (num[4:6]==num[8:10])) else 0 for num in df['phone_number']]\n",
    "    \n",
    "    #3 pair_first\n",
    "    df['three_pair_first'] = [1 if ((num[3:5]==num[5:7]) and (num[3:5]==num[7:9])) else 0 for num in df['phone_number']]\n",
    "    \n",
    "    #just two number include\n",
    "    def check_two_num(s):\n",
    "        my_set = set()\n",
    "        for i in s:\n",
    "            my_set.add(i)\n",
    "        if(len(list(my_set)) == 2):\n",
    "            return True\n",
    "        return False\n",
    "    df['just_two_num'] = [1 if check_two_num(num[3:]) else 0 for num in df['phone_number']]\n",
    "    \n",
    "    #last 5 number all same\n",
    "    df['last_5_sim'] = [1 if (allCharactersSame(num[5:]) and num[4]!=num[5]) else 0 for num in df['phone_number']]\n",
    "    \n",
    "    #first 5 number all same\n",
    "    df['first_5_sim'] = [1 if (allCharactersSame(num[3:8]) and num[7]!=num[8]) else 0 for num in df['phone_number']]\n",
    "    \n",
    "    #double hundreds\n",
    "    pattern_hundred = r'([1-9]00){2}'\n",
    "    df['double_100'] = [1 if (len(re.findall(pattern_hundred , num[4:10]))==1 or\n",
    "                        len(re.findall(pattern_hundred , num[3:9]))==1) else 0 for num in df['phone_number']]\n",
    "    \n",
    "    #two triple pair like '532 532'\n",
    "    df['two_triple_pair'] = [1 if ((num[6:9]==num[3:6]) or (num[4:7]==num[7:10])) else 0 for num in df['phone_number']]\n",
    "    \n",
    "    #first 1000\n",
    "    df['first_1000'] = [1 if ((num[4:6]=='00' and num[3]!='0') or (num[5:7]=='00') and num[4]!='0') else 0 for num in df['phone_number']]\n",
    "    \n",
    "    #last 1000\n",
    "    df['last_1000'] = [1 if ((num[7:9]=='00' and num[6]!='0') or (num[8:10]=='00')) else 0 for num in df['phone_number']]\n",
    "    \n",
    "    #last 4 number all same\n",
    "    df['last_4_sim'] = [1 if (allCharactersSame(num[6:]) and num[5]!=num[6]) else 0 for num in df['phone_number']]\n",
    "    \n",
    "    #first 4 number all same\n",
    "    df['first_4_sim'] = [1 if (allCharactersSame(num[3:7]) and num[6]!=num[7]) else 0 for num in df['phone_number']]\n",
    "    \n",
    "    #middle 5 number all same\n",
    "    df['middle_5_sim'] = [1 if (allCharactersSame(num[4:9]) and num[3]!=num[4] and num[8]!=num[9]) else 0 for num in df['phone_number']]\n",
    "    \n",
    "    #last double ten like '4090'\n",
    "    pattern_double_10 = r'([1-9]0){2,3}'\n",
    "    df['last_double_10'] = [1 if (len(re.findall(pattern_double_10 , num[4:]))==1 and num[-1]=='0') else 0 for num in df['phone_number']]\n",
    "    \n",
    "    #last double ten like '4090'\n",
    "    pattern_double_10 = r'([1-9]0){2,3}'\n",
    "    df['first_double_10'] = [1 if (len(re.findall(pattern_double_10 , num[3:9]))==1 and num[4]=='0') else 0 for num in df['phone_number']]\n",
    "    \n",
    "    #last two pair\n",
    "    df['last_two_pair'] = [1 if (num[6:8]==num[8:10] and num[6]!=num[7]) else 0 for num in df['phone_number']]\n",
    "    \n",
    "    #first two pair\n",
    "    df['first_two_pair'] = [1 if (num[3:5]==num[5:7] and num[3]!=num[4]) else 0 for num in df['phone_number']]\n",
    "    \n",
    "    #last 3 number all same\n",
    "    df['last_3_sim'] = [1 if allCharactersSame(num[7:]) and num[6]!=num[7] else 0 for num in df['phone_number']]\n",
    "    \n",
    "    #first 3 number all same\n",
    "    df['first_3_sim'] = [1 if (allCharactersSame(num[3:6]) and num[5]!=num[6]) else 0 for num in df['phone_number']]\n",
    "    \n",
    "    #repeat area code\n",
    "    def check_area_code(s):\n",
    "        for area_code in area_code_lst:\n",
    "            if area_code in s:\n",
    "                return True\n",
    "        return False\n",
    "    df['area_code_repeat'] = [1 if check_area_code(num[3:]) else 0 for num in df['phone_number']]\n",
    "    \n",
    "    #weighted phone number\n",
    "    df['wheighted_num'] = [1 if (num[3:6] == num[7:10]) else 0 for num in df['phone_number']]\n",
    "    \n",
    "    #middle 4 number all same\n",
    "    df['middle_4_sim'] = [1 if (allCharactersSame(num[4:8]) and num[3]!=num[4] and num[7]!=num[8]) else 0 for num in df['phone_number']]\n",
    "    \n",
    "    #birthday number like '1345'\n",
    "    df['birthday_num'] = [1 if (num[3:5] == '13') or (num[6:8] == '13') else 0 for num in df['phone_number']]\n",
    "    \n",
    "    #middle 3 number all same\n",
    "    def check_middle_3_condition(num):\n",
    "        if ((allCharactersSame(num[6:9]) and num[5]!=num[6] and num[8]!=num[9]) or \n",
    "            (allCharactersSame(num[5:8]) and num[4]!=num[5] and num[7]!=num[8]) or\n",
    "                (allCharactersSame(num[4:7]) and num[3]!=num[4] and num[6]!=num[7])):\n",
    "            return True\n",
    "        return False\n",
    "    df['middle_3_sim'] = [1 if check_middle_3_condition(num) else 0 for num in df['phone_number']]\n",
    "    \n",
    "    #repeat 2 digits\n",
    "    pattern_repeat_2_digits = r'([0-9])\\1{1}'\n",
    "    df['repeat_2_digits'] = [1 if len(re.findall(pattern_repeat_2_digits , num[3:]))>=2 else 0 for num in df['phone_number']]\n",
    "    \n",
    "    #first 10000\n",
    "    df['first_10000'] = [1 if ((num[3]!='0' and num[8]!='0') and ((num[4:7]=='000') or (num[5:8]=='000'))) else 0 for num in df['phone_number']]\n",
    "    \n",
    "    #last 10000\n",
    "    df['last_10000'] = [1 if ((num[6:9]=='000' and num[5]!='0') or (num[7:10]=='000')) else 0 for num in df['phone_number']]\n",
    "    \n",
    "    #million\n",
    "    df['million'] = [1 if (num[3]!='0' and ((num[4:9]=='00000') or (num[5:10]=='00000'))) else 0 for num in df['phone_number']]\n",
    "    # area code encoder\n",
    "    df['area_code'] = df.phone_number.str[:3]\n",
    "    df['first_three'] = pd.to_numeric(df.phone_number.str[3:6], errors='coerce')\n",
    "    df['last_four'] = pd.to_numeric(df.phone_number.str[6:], errors='coerce')\n"
   ]
  },
  {
   "cell_type": "code",
   "execution_count": 66,
   "id": "bee9793c-33fc-4ea6-87ea-109a6ca07647",
   "metadata": {},
   "outputs": [],
   "source": [
    "number_features(df)"
   ]
  },
  {
   "cell_type": "code",
   "execution_count": 67,
   "id": "9d3dcbc8-ec7d-4a09-868c-60c53c7bbc0e",
   "metadata": {},
   "outputs": [
    {
     "data": {
      "text/html": [
       "<div>\n",
       "<style scoped>\n",
       "    .dataframe tbody tr th:only-of-type {\n",
       "        vertical-align: middle;\n",
       "    }\n",
       "\n",
       "    .dataframe tbody tr th {\n",
       "        vertical-align: top;\n",
       "    }\n",
       "\n",
       "    .dataframe thead th {\n",
       "        text-align: right;\n",
       "    }\n",
       "</style>\n",
       "<table border=\"1\" class=\"dataframe\">\n",
       "  <thead>\n",
       "    <tr style=\"text-align: right;\">\n",
       "      <th></th>\n",
       "      <th>phone_number</th>\n",
       "      <th>price</th>\n",
       "      <th>status</th>\n",
       "      <th>city_0</th>\n",
       "      <th>city_1</th>\n",
       "      <th>city_2</th>\n",
       "      <th>city_3</th>\n",
       "      <th>city_4</th>\n",
       "      <th>city_5</th>\n",
       "      <th>city_6</th>\n",
       "      <th>...</th>\n",
       "      <th>middle_4_sim</th>\n",
       "      <th>birthday_num</th>\n",
       "      <th>middle_3_sim</th>\n",
       "      <th>repeat_2_digits</th>\n",
       "      <th>first_10000</th>\n",
       "      <th>last_10000</th>\n",
       "      <th>million</th>\n",
       "      <th>area_code</th>\n",
       "      <th>first_three</th>\n",
       "      <th>last_four</th>\n",
       "    </tr>\n",
       "  </thead>\n",
       "  <tbody>\n",
       "    <tr>\n",
       "      <th>0</th>\n",
       "      <td>9122533648</td>\n",
       "      <td>20500000.0</td>\n",
       "      <td>0</td>\n",
       "      <td>0</td>\n",
       "      <td>0</td>\n",
       "      <td>0</td>\n",
       "      <td>0</td>\n",
       "      <td>0</td>\n",
       "      <td>0</td>\n",
       "      <td>1</td>\n",
       "      <td>...</td>\n",
       "      <td>0</td>\n",
       "      <td>0</td>\n",
       "      <td>0</td>\n",
       "      <td>0</td>\n",
       "      <td>0</td>\n",
       "      <td>0</td>\n",
       "      <td>0</td>\n",
       "      <td>912</td>\n",
       "      <td>253.0</td>\n",
       "      <td>3648.0</td>\n",
       "    </tr>\n",
       "    <tr>\n",
       "      <th>1</th>\n",
       "      <td>9126394944</td>\n",
       "      <td>16200000.0</td>\n",
       "      <td>2</td>\n",
       "      <td>0</td>\n",
       "      <td>0</td>\n",
       "      <td>0</td>\n",
       "      <td>0</td>\n",
       "      <td>0</td>\n",
       "      <td>0</td>\n",
       "      <td>1</td>\n",
       "      <td>...</td>\n",
       "      <td>0</td>\n",
       "      <td>0</td>\n",
       "      <td>0</td>\n",
       "      <td>0</td>\n",
       "      <td>0</td>\n",
       "      <td>0</td>\n",
       "      <td>0</td>\n",
       "      <td>912</td>\n",
       "      <td>639.0</td>\n",
       "      <td>4944.0</td>\n",
       "    </tr>\n",
       "    <tr>\n",
       "      <th>2</th>\n",
       "      <td>9126719709</td>\n",
       "      <td>12700000.0</td>\n",
       "      <td>2</td>\n",
       "      <td>0</td>\n",
       "      <td>0</td>\n",
       "      <td>0</td>\n",
       "      <td>0</td>\n",
       "      <td>0</td>\n",
       "      <td>0</td>\n",
       "      <td>1</td>\n",
       "      <td>...</td>\n",
       "      <td>0</td>\n",
       "      <td>0</td>\n",
       "      <td>0</td>\n",
       "      <td>0</td>\n",
       "      <td>0</td>\n",
       "      <td>0</td>\n",
       "      <td>0</td>\n",
       "      <td>912</td>\n",
       "      <td>671.0</td>\n",
       "      <td>9709.0</td>\n",
       "    </tr>\n",
       "    <tr>\n",
       "      <th>3</th>\n",
       "      <td>9123594496</td>\n",
       "      <td>16300000.0</td>\n",
       "      <td>2</td>\n",
       "      <td>0</td>\n",
       "      <td>0</td>\n",
       "      <td>0</td>\n",
       "      <td>0</td>\n",
       "      <td>0</td>\n",
       "      <td>0</td>\n",
       "      <td>1</td>\n",
       "      <td>...</td>\n",
       "      <td>0</td>\n",
       "      <td>0</td>\n",
       "      <td>0</td>\n",
       "      <td>0</td>\n",
       "      <td>0</td>\n",
       "      <td>0</td>\n",
       "      <td>0</td>\n",
       "      <td>912</td>\n",
       "      <td>359.0</td>\n",
       "      <td>4496.0</td>\n",
       "    </tr>\n",
       "    <tr>\n",
       "      <th>4</th>\n",
       "      <td>9122160397</td>\n",
       "      <td>27700000.0</td>\n",
       "      <td>2</td>\n",
       "      <td>0</td>\n",
       "      <td>0</td>\n",
       "      <td>0</td>\n",
       "      <td>0</td>\n",
       "      <td>0</td>\n",
       "      <td>0</td>\n",
       "      <td>1</td>\n",
       "      <td>...</td>\n",
       "      <td>0</td>\n",
       "      <td>0</td>\n",
       "      <td>0</td>\n",
       "      <td>0</td>\n",
       "      <td>0</td>\n",
       "      <td>0</td>\n",
       "      <td>0</td>\n",
       "      <td>912</td>\n",
       "      <td>216.0</td>\n",
       "      <td>397.0</td>\n",
       "    </tr>\n",
       "  </tbody>\n",
       "</table>\n",
       "<p>5 rows × 44 columns</p>\n",
       "</div>"
      ],
      "text/plain": [
       "  phone_number       price  status  city_0  city_1  city_2  city_3  city_4  \\\n",
       "0   9122533648  20500000.0       0       0       0       0       0       0   \n",
       "1   9126394944  16200000.0       2       0       0       0       0       0   \n",
       "2   9126719709  12700000.0       2       0       0       0       0       0   \n",
       "3   9123594496  16300000.0       2       0       0       0       0       0   \n",
       "4   9122160397  27700000.0       2       0       0       0       0       0   \n",
       "\n",
       "   city_5  city_6  ...  middle_4_sim  birthday_num  middle_3_sim  \\\n",
       "0       0       1  ...             0             0             0   \n",
       "1       0       1  ...             0             0             0   \n",
       "2       0       1  ...             0             0             0   \n",
       "3       0       1  ...             0             0             0   \n",
       "4       0       1  ...             0             0             0   \n",
       "\n",
       "   repeat_2_digits  first_10000  last_10000  million  area_code  first_three  \\\n",
       "0                0            0           0        0        912        253.0   \n",
       "1                0            0           0        0        912        639.0   \n",
       "2                0            0           0        0        912        671.0   \n",
       "3                0            0           0        0        912        359.0   \n",
       "4                0            0           0        0        912        216.0   \n",
       "\n",
       "   last_four  \n",
       "0     3648.0  \n",
       "1     4944.0  \n",
       "2     9709.0  \n",
       "3     4496.0  \n",
       "4      397.0  \n",
       "\n",
       "[5 rows x 44 columns]"
      ]
     },
     "execution_count": 67,
     "metadata": {},
     "output_type": "execute_result"
    }
   ],
   "source": [
    "df.head()"
   ]
  },
  {
   "cell_type": "code",
   "execution_count": 68,
   "id": "7102dc6e-335f-45d8-9739-a9b48a4cf3b8",
   "metadata": {},
   "outputs": [
    {
     "name": "stdout",
     "output_type": "stream",
     "text": [
      "<class 'pandas.core.frame.DataFrame'>\n",
      "Int64Index: 223399 entries, 0 to 285119\n",
      "Data columns (total 44 columns):\n",
      " #   Column            Non-Null Count   Dtype  \n",
      "---  ------            --------------   -----  \n",
      " 0   phone_number      223399 non-null  object \n",
      " 1   price             223399 non-null  float64\n",
      " 2   status            223399 non-null  int64  \n",
      " 3   city_0            223399 non-null  int64  \n",
      " 4   city_1            223399 non-null  int64  \n",
      " 5   city_2            223399 non-null  int64  \n",
      " 6   city_3            223399 non-null  int64  \n",
      " 7   city_4            223399 non-null  int64  \n",
      " 8   city_5            223399 non-null  int64  \n",
      " 9   city_6            223399 non-null  int64  \n",
      " 10  time              223399 non-null  int64  \n",
      " 11  last_7_sim        223399 non-null  int64  \n",
      " 12  last_6_sim        223399 non-null  int64  \n",
      " 13  first_6_sim       223399 non-null  int64  \n",
      " 14  three_pair_last   223399 non-null  int64  \n",
      " 15  three_pair_first  223399 non-null  int64  \n",
      " 16  just_two_num      223399 non-null  int64  \n",
      " 17  last_5_sim        223399 non-null  int64  \n",
      " 18  first_5_sim       223399 non-null  int64  \n",
      " 19  double_100        223399 non-null  int64  \n",
      " 20  two_triple_pair   223399 non-null  int64  \n",
      " 21  first_1000        223399 non-null  int64  \n",
      " 22  last_1000         223399 non-null  int64  \n",
      " 23  last_4_sim        223399 non-null  int64  \n",
      " 24  first_4_sim       223399 non-null  int64  \n",
      " 25  middle_5_sim      223399 non-null  int64  \n",
      " 26  last_double_10    223399 non-null  int64  \n",
      " 27  first_double_10   223399 non-null  int64  \n",
      " 28  last_two_pair     223399 non-null  int64  \n",
      " 29  first_two_pair    223399 non-null  int64  \n",
      " 30  last_3_sim        223399 non-null  int64  \n",
      " 31  first_3_sim       223399 non-null  int64  \n",
      " 32  area_code_repeat  223399 non-null  int64  \n",
      " 33  wheighted_num     223399 non-null  int64  \n",
      " 34  middle_4_sim      223399 non-null  int64  \n",
      " 35  birthday_num      223399 non-null  int64  \n",
      " 36  middle_3_sim      223399 non-null  int64  \n",
      " 37  repeat_2_digits   223399 non-null  int64  \n",
      " 38  first_10000       223399 non-null  int64  \n",
      " 39  last_10000        223399 non-null  int64  \n",
      " 40  million           223399 non-null  int64  \n",
      " 41  area_code         223399 non-null  object \n",
      " 42  first_three       223162 non-null  float64\n",
      " 43  last_four         223147 non-null  float64\n",
      "dtypes: float64(3), int64(39), object(2)\n",
      "memory usage: 76.7+ MB\n"
     ]
    }
   ],
   "source": [
    "df.info()"
   ]
  },
  {
   "cell_type": "code",
   "execution_count": 70,
   "id": "ab8f5c41-d923-49ad-9523-fd3f85132d99",
   "metadata": {},
   "outputs": [],
   "source": [
    "area_code_bin_enc = ce.BinaryEncoder(cols=['area_code'])\n",
    "df = area_code_bin_enc.fit_transform(df)"
   ]
  },
  {
   "cell_type": "code",
   "execution_count": 71,
   "id": "3c5763f9-127e-4b8a-b18e-aede76ba3ba4",
   "metadata": {},
   "outputs": [
    {
     "data": {
      "text/html": [
       "<div>\n",
       "<style scoped>\n",
       "    .dataframe tbody tr th:only-of-type {\n",
       "        vertical-align: middle;\n",
       "    }\n",
       "\n",
       "    .dataframe tbody tr th {\n",
       "        vertical-align: top;\n",
       "    }\n",
       "\n",
       "    .dataframe thead th {\n",
       "        text-align: right;\n",
       "    }\n",
       "</style>\n",
       "<table border=\"1\" class=\"dataframe\">\n",
       "  <thead>\n",
       "    <tr style=\"text-align: right;\">\n",
       "      <th></th>\n",
       "      <th>phone_number</th>\n",
       "      <th>price</th>\n",
       "      <th>status</th>\n",
       "      <th>city_0</th>\n",
       "      <th>city_1</th>\n",
       "      <th>city_2</th>\n",
       "      <th>city_3</th>\n",
       "      <th>city_4</th>\n",
       "      <th>city_5</th>\n",
       "      <th>city_6</th>\n",
       "      <th>...</th>\n",
       "      <th>last_10000</th>\n",
       "      <th>million</th>\n",
       "      <th>area_code_0</th>\n",
       "      <th>area_code_1</th>\n",
       "      <th>area_code_2</th>\n",
       "      <th>area_code_3</th>\n",
       "      <th>area_code_4</th>\n",
       "      <th>area_code_5</th>\n",
       "      <th>first_three</th>\n",
       "      <th>last_four</th>\n",
       "    </tr>\n",
       "  </thead>\n",
       "  <tbody>\n",
       "    <tr>\n",
       "      <th>0</th>\n",
       "      <td>9122533648</td>\n",
       "      <td>20500000.0</td>\n",
       "      <td>0</td>\n",
       "      <td>0</td>\n",
       "      <td>0</td>\n",
       "      <td>0</td>\n",
       "      <td>0</td>\n",
       "      <td>0</td>\n",
       "      <td>0</td>\n",
       "      <td>1</td>\n",
       "      <td>...</td>\n",
       "      <td>0</td>\n",
       "      <td>0</td>\n",
       "      <td>0</td>\n",
       "      <td>0</td>\n",
       "      <td>0</td>\n",
       "      <td>0</td>\n",
       "      <td>0</td>\n",
       "      <td>1</td>\n",
       "      <td>253.0</td>\n",
       "      <td>3648.0</td>\n",
       "    </tr>\n",
       "    <tr>\n",
       "      <th>1</th>\n",
       "      <td>9126394944</td>\n",
       "      <td>16200000.0</td>\n",
       "      <td>2</td>\n",
       "      <td>0</td>\n",
       "      <td>0</td>\n",
       "      <td>0</td>\n",
       "      <td>0</td>\n",
       "      <td>0</td>\n",
       "      <td>0</td>\n",
       "      <td>1</td>\n",
       "      <td>...</td>\n",
       "      <td>0</td>\n",
       "      <td>0</td>\n",
       "      <td>0</td>\n",
       "      <td>0</td>\n",
       "      <td>0</td>\n",
       "      <td>0</td>\n",
       "      <td>0</td>\n",
       "      <td>1</td>\n",
       "      <td>639.0</td>\n",
       "      <td>4944.0</td>\n",
       "    </tr>\n",
       "    <tr>\n",
       "      <th>2</th>\n",
       "      <td>9126719709</td>\n",
       "      <td>12700000.0</td>\n",
       "      <td>2</td>\n",
       "      <td>0</td>\n",
       "      <td>0</td>\n",
       "      <td>0</td>\n",
       "      <td>0</td>\n",
       "      <td>0</td>\n",
       "      <td>0</td>\n",
       "      <td>1</td>\n",
       "      <td>...</td>\n",
       "      <td>0</td>\n",
       "      <td>0</td>\n",
       "      <td>0</td>\n",
       "      <td>0</td>\n",
       "      <td>0</td>\n",
       "      <td>0</td>\n",
       "      <td>0</td>\n",
       "      <td>1</td>\n",
       "      <td>671.0</td>\n",
       "      <td>9709.0</td>\n",
       "    </tr>\n",
       "    <tr>\n",
       "      <th>3</th>\n",
       "      <td>9123594496</td>\n",
       "      <td>16300000.0</td>\n",
       "      <td>2</td>\n",
       "      <td>0</td>\n",
       "      <td>0</td>\n",
       "      <td>0</td>\n",
       "      <td>0</td>\n",
       "      <td>0</td>\n",
       "      <td>0</td>\n",
       "      <td>1</td>\n",
       "      <td>...</td>\n",
       "      <td>0</td>\n",
       "      <td>0</td>\n",
       "      <td>0</td>\n",
       "      <td>0</td>\n",
       "      <td>0</td>\n",
       "      <td>0</td>\n",
       "      <td>0</td>\n",
       "      <td>1</td>\n",
       "      <td>359.0</td>\n",
       "      <td>4496.0</td>\n",
       "    </tr>\n",
       "    <tr>\n",
       "      <th>4</th>\n",
       "      <td>9122160397</td>\n",
       "      <td>27700000.0</td>\n",
       "      <td>2</td>\n",
       "      <td>0</td>\n",
       "      <td>0</td>\n",
       "      <td>0</td>\n",
       "      <td>0</td>\n",
       "      <td>0</td>\n",
       "      <td>0</td>\n",
       "      <td>1</td>\n",
       "      <td>...</td>\n",
       "      <td>0</td>\n",
       "      <td>0</td>\n",
       "      <td>0</td>\n",
       "      <td>0</td>\n",
       "      <td>0</td>\n",
       "      <td>0</td>\n",
       "      <td>0</td>\n",
       "      <td>1</td>\n",
       "      <td>216.0</td>\n",
       "      <td>397.0</td>\n",
       "    </tr>\n",
       "  </tbody>\n",
       "</table>\n",
       "<p>5 rows × 49 columns</p>\n",
       "</div>"
      ],
      "text/plain": [
       "  phone_number       price  status  city_0  city_1  city_2  city_3  city_4  \\\n",
       "0   9122533648  20500000.0       0       0       0       0       0       0   \n",
       "1   9126394944  16200000.0       2       0       0       0       0       0   \n",
       "2   9126719709  12700000.0       2       0       0       0       0       0   \n",
       "3   9123594496  16300000.0       2       0       0       0       0       0   \n",
       "4   9122160397  27700000.0       2       0       0       0       0       0   \n",
       "\n",
       "   city_5  city_6  ...  last_10000  million  area_code_0  area_code_1  \\\n",
       "0       0       1  ...           0        0            0            0   \n",
       "1       0       1  ...           0        0            0            0   \n",
       "2       0       1  ...           0        0            0            0   \n",
       "3       0       1  ...           0        0            0            0   \n",
       "4       0       1  ...           0        0            0            0   \n",
       "\n",
       "   area_code_2  area_code_3  area_code_4  area_code_5  first_three  last_four  \n",
       "0            0            0            0            1        253.0     3648.0  \n",
       "1            0            0            0            1        639.0     4944.0  \n",
       "2            0            0            0            1        671.0     9709.0  \n",
       "3            0            0            0            1        359.0     4496.0  \n",
       "4            0            0            0            1        216.0      397.0  \n",
       "\n",
       "[5 rows x 49 columns]"
      ]
     },
     "execution_count": 71,
     "metadata": {},
     "output_type": "execute_result"
    }
   ],
   "source": [
    "df.head()"
   ]
  },
  {
   "cell_type": "markdown",
   "id": "5a900ccd-973d-4221-a69a-28d5ede17498",
   "metadata": {},
   "source": [
    "## 7. Save the Pre Processed Dataset"
   ]
  },
  {
   "cell_type": "code",
   "execution_count": 409,
   "id": "fc580090-e6d9-4108-acf7-e2e994a591f3",
   "metadata": {},
   "outputs": [],
   "source": [
    "df.to_csv('preprocessed_with_features_rond1000.csv')"
   ]
  },
  {
   "cell_type": "code",
   "execution_count": null,
   "id": "260b4d6a-7088-4ffe-8170-6195d55f531b",
   "metadata": {},
   "outputs": [],
   "source": []
  }
 ],
 "metadata": {
  "kernelspec": {
   "display_name": "Python 3 (ipykernel)",
   "language": "python",
   "name": "python3"
  },
  "language_info": {
   "codemirror_mode": {
    "name": "ipython",
    "version": 3
   },
   "file_extension": ".py",
   "mimetype": "text/x-python",
   "name": "python",
   "nbconvert_exporter": "python",
   "pygments_lexer": "ipython3",
   "version": "3.10.2"
  }
 },
 "nbformat": 4,
 "nbformat_minor": 5
}
