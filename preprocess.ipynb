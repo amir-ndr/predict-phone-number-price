{
 "cells": [
  {
   "cell_type": "code",
   "execution_count": 1,
   "id": "24fa5b54-1508-40b4-865d-75fb45896421",
   "metadata": {},
   "outputs": [],
   "source": [
    "import pandas as pd\n",
    "import numpy as np"
   ]
  },
  {
   "cell_type": "code",
   "execution_count": 2,
   "id": "b8283a48-0cce-4415-82e8-e8481845fafe",
   "metadata": {},
   "outputs": [],
   "source": [
    "df = pd.read_csv(\"rond1000.csv\")"
   ]
  },
  {
   "cell_type": "code",
   "execution_count": 3,
   "id": "59e8e126-9837-4b5f-b4a7-46e26778eb7c",
   "metadata": {},
   "outputs": [
    {
     "data": {
      "text/html": [
       "<div>\n",
       "<style scoped>\n",
       "    .dataframe tbody tr th:only-of-type {\n",
       "        vertical-align: middle;\n",
       "    }\n",
       "\n",
       "    .dataframe tbody tr th {\n",
       "        vertical-align: top;\n",
       "    }\n",
       "\n",
       "    .dataframe thead th {\n",
       "        text-align: right;\n",
       "    }\n",
       "</style>\n",
       "<table border=\"1\" class=\"dataframe\">\n",
       "  <thead>\n",
       "    <tr style=\"text-align: right;\">\n",
       "      <th></th>\n",
       "      <th>phone_number</th>\n",
       "      <th>price</th>\n",
       "      <th>status</th>\n",
       "      <th>city</th>\n",
       "      <th>time</th>\n",
       "    </tr>\n",
       "  </thead>\n",
       "  <tbody>\n",
       "    <tr>\n",
       "      <th>0</th>\n",
       "      <td>0912 69 88 709</td>\n",
       "      <td>10,250,000</td>\n",
       "      <td>صفر</td>\n",
       "      <td>تهران</td>\n",
       "      <td>6 ثانیه</td>\n",
       "    </tr>\n",
       "    <tr>\n",
       "      <th>1</th>\n",
       "      <td>0912 672 0 962</td>\n",
       "      <td>11,500,000</td>\n",
       "      <td>صفر</td>\n",
       "      <td>تهران</td>\n",
       "      <td>6 ثانیه</td>\n",
       "    </tr>\n",
       "    <tr>\n",
       "      <th>2</th>\n",
       "      <td>0912 538 67 32</td>\n",
       "      <td>11,150,000</td>\n",
       "      <td>صفر</td>\n",
       "      <td>تهران</td>\n",
       "      <td>6 ثانیه</td>\n",
       "    </tr>\n",
       "    <tr>\n",
       "      <th>3</th>\n",
       "      <td>0912 794 7800</td>\n",
       "      <td>17,600,000</td>\n",
       "      <td>صفر</td>\n",
       "      <td>تهران</td>\n",
       "      <td>6 ثانیه</td>\n",
       "    </tr>\n",
       "    <tr>\n",
       "      <th>4</th>\n",
       "      <td>0912 216 91 46</td>\n",
       "      <td>27,700,000</td>\n",
       "      <td>صفر</td>\n",
       "      <td>تهران</td>\n",
       "      <td>6 ثانیه</td>\n",
       "    </tr>\n",
       "  </tbody>\n",
       "</table>\n",
       "</div>"
      ],
      "text/plain": [
       "     phone_number       price status   city     time\n",
       "0  0912 69 88 709  10,250,000    صفر  تهران  6 ثانیه\n",
       "1  0912 672 0 962  11,500,000    صفر  تهران  6 ثانیه\n",
       "2  0912 538 67 32  11,150,000    صفر  تهران  6 ثانیه\n",
       "3   0912 794 7800  17,600,000    صفر  تهران  6 ثانیه\n",
       "4  0912 216 91 46  27,700,000    صفر  تهران  6 ثانیه"
      ]
     },
     "execution_count": 3,
     "metadata": {},
     "output_type": "execute_result"
    }
   ],
   "source": [
    "df.head()"
   ]
  },
  {
   "cell_type": "code",
   "execution_count": 4,
   "id": "7cfcd125-3253-40af-acb6-395a7586ae67",
   "metadata": {},
   "outputs": [
    {
     "name": "stdout",
     "output_type": "stream",
     "text": [
      "<class 'pandas.core.frame.DataFrame'>\n",
      "RangeIndex: 40000 entries, 0 to 39999\n",
      "Data columns (total 5 columns):\n",
      " #   Column        Non-Null Count  Dtype \n",
      "---  ------        --------------  ----- \n",
      " 0   phone_number  40000 non-null  object\n",
      " 1   price         40000 non-null  object\n",
      " 2   status        40000 non-null  object\n",
      " 3   city          40000 non-null  object\n",
      " 4   time          39687 non-null  object\n",
      "dtypes: object(5)\n",
      "memory usage: 1.5+ MB\n"
     ]
    }
   ],
   "source": [
    "df.info()"
   ]
  },
  {
   "cell_type": "code",
   "execution_count": null,
   "id": "96906d9b-bde0-4f47-a4e4-710beae03ee6",
   "metadata": {},
   "outputs": [],
   "source": []
  }
 ],
 "metadata": {
  "kernelspec": {
   "display_name": "Python 3",
   "language": "python",
   "name": "python3"
  },
  "language_info": {
   "codemirror_mode": {
    "name": "ipython",
    "version": 3
   },
   "file_extension": ".py",
   "mimetype": "text/x-python",
   "name": "python",
   "nbconvert_exporter": "python",
   "pygments_lexer": "ipython3",
   "version": "3.9.5"
  }
 },
 "nbformat": 4,
 "nbformat_minor": 5
}
