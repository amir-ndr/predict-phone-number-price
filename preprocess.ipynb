{
 "cells": [
  {
   "cell_type": "code",
   "execution_count": 34,
   "id": "24fa5b54-1508-40b4-865d-75fb45896421",
   "metadata": {},
   "outputs": [],
   "source": [
    "import pandas as pd\n",
    "import numpy as np"
   ]
  },
  {
   "cell_type": "code",
   "execution_count": 35,
   "id": "b8283a48-0cce-4415-82e8-e8481845fafe",
   "metadata": {},
   "outputs": [],
   "source": [
    "df = pd.read_csv(\"rond1000.csv\")"
   ]
  },
  {
   "cell_type": "code",
   "execution_count": 36,
   "id": "59e8e126-9837-4b5f-b4a7-46e26778eb7c",
   "metadata": {},
   "outputs": [
    {
     "data": {
      "text/html": [
       "<div>\n",
       "<style scoped>\n",
       "    .dataframe tbody tr th:only-of-type {\n",
       "        vertical-align: middle;\n",
       "    }\n",
       "\n",
       "    .dataframe tbody tr th {\n",
       "        vertical-align: top;\n",
       "    }\n",
       "\n",
       "    .dataframe thead th {\n",
       "        text-align: right;\n",
       "    }\n",
       "</style>\n",
       "<table border=\"1\" class=\"dataframe\">\n",
       "  <thead>\n",
       "    <tr style=\"text-align: right;\">\n",
       "      <th></th>\n",
       "      <th>phone_number</th>\n",
       "      <th>price</th>\n",
       "      <th>status</th>\n",
       "      <th>city</th>\n",
       "      <th>time</th>\n",
       "    </tr>\n",
       "  </thead>\n",
       "  <tbody>\n",
       "    <tr>\n",
       "      <th>0</th>\n",
       "      <td>0912 69 88 709</td>\n",
       "      <td>10,250,000</td>\n",
       "      <td>صفر</td>\n",
       "      <td>تهران</td>\n",
       "      <td>6 ثانیه</td>\n",
       "    </tr>\n",
       "    <tr>\n",
       "      <th>1</th>\n",
       "      <td>0912 672 0 962</td>\n",
       "      <td>11,500,000</td>\n",
       "      <td>صفر</td>\n",
       "      <td>تهران</td>\n",
       "      <td>6 ثانیه</td>\n",
       "    </tr>\n",
       "    <tr>\n",
       "      <th>2</th>\n",
       "      <td>0912 538 67 32</td>\n",
       "      <td>11,150,000</td>\n",
       "      <td>صفر</td>\n",
       "      <td>تهران</td>\n",
       "      <td>6 ثانیه</td>\n",
       "    </tr>\n",
       "    <tr>\n",
       "      <th>3</th>\n",
       "      <td>0912 794 7800</td>\n",
       "      <td>17,600,000</td>\n",
       "      <td>صفر</td>\n",
       "      <td>تهران</td>\n",
       "      <td>6 ثانیه</td>\n",
       "    </tr>\n",
       "    <tr>\n",
       "      <th>4</th>\n",
       "      <td>0912 216 91 46</td>\n",
       "      <td>27,700,000</td>\n",
       "      <td>صفر</td>\n",
       "      <td>تهران</td>\n",
       "      <td>6 ثانیه</td>\n",
       "    </tr>\n",
       "  </tbody>\n",
       "</table>\n",
       "</div>"
      ],
      "text/plain": [
       "     phone_number       price status   city     time\n",
       "0  0912 69 88 709  10,250,000    صفر  تهران  6 ثانیه\n",
       "1  0912 672 0 962  11,500,000    صفر  تهران  6 ثانیه\n",
       "2  0912 538 67 32  11,150,000    صفر  تهران  6 ثانیه\n",
       "3   0912 794 7800  17,600,000    صفر  تهران  6 ثانیه\n",
       "4  0912 216 91 46  27,700,000    صفر  تهران  6 ثانیه"
      ]
     },
     "execution_count": 36,
     "metadata": {},
     "output_type": "execute_result"
    }
   ],
   "source": [
    "df.head()"
   ]
  },
  {
   "cell_type": "code",
   "execution_count": 37,
   "id": "7cfcd125-3253-40af-acb6-395a7586ae67",
   "metadata": {},
   "outputs": [
    {
     "name": "stdout",
     "output_type": "stream",
     "text": [
      "<class 'pandas.core.frame.DataFrame'>\n",
      "RangeIndex: 40000 entries, 0 to 39999\n",
      "Data columns (total 5 columns):\n",
      " #   Column        Non-Null Count  Dtype \n",
      "---  ------        --------------  ----- \n",
      " 0   phone_number  40000 non-null  object\n",
      " 1   price         40000 non-null  object\n",
      " 2   status        40000 non-null  object\n",
      " 3   city          40000 non-null  object\n",
      " 4   time          39687 non-null  object\n",
      "dtypes: object(5)\n",
      "memory usage: 1.5+ MB\n"
     ]
    }
   ],
   "source": [
    "df.info()"
   ]
  },
  {
   "cell_type": "code",
   "execution_count": 38,
   "id": "96906d9b-bde0-4f47-a4e4-710beae03ee6",
   "metadata": {},
   "outputs": [],
   "source": [
    "def process_price(price):\n",
    "    price = price.replace(',' , '')\n",
    "    if price.isdigit():\n",
    "        return int(price)\n",
    "    return np.nan"
   ]
  },
  {
   "cell_type": "code",
   "execution_count": 39,
   "id": "86774579-08ef-4b1b-bb5c-5460497f851a",
   "metadata": {},
   "outputs": [],
   "source": [
    "df.price = df.price.apply(process_price)"
   ]
  },
  {
   "cell_type": "code",
   "execution_count": 40,
   "id": "dc43d1e6-e554-4a37-be56-9e0329f311be",
   "metadata": {},
   "outputs": [
    {
     "data": {
      "text/html": [
       "<div>\n",
       "<style scoped>\n",
       "    .dataframe tbody tr th:only-of-type {\n",
       "        vertical-align: middle;\n",
       "    }\n",
       "\n",
       "    .dataframe tbody tr th {\n",
       "        vertical-align: top;\n",
       "    }\n",
       "\n",
       "    .dataframe thead th {\n",
       "        text-align: right;\n",
       "    }\n",
       "</style>\n",
       "<table border=\"1\" class=\"dataframe\">\n",
       "  <thead>\n",
       "    <tr style=\"text-align: right;\">\n",
       "      <th></th>\n",
       "      <th>phone_number</th>\n",
       "      <th>price</th>\n",
       "      <th>status</th>\n",
       "      <th>city</th>\n",
       "      <th>time</th>\n",
       "    </tr>\n",
       "  </thead>\n",
       "  <tbody>\n",
       "    <tr>\n",
       "      <th>0</th>\n",
       "      <td>0912 69 88 709</td>\n",
       "      <td>10250000.0</td>\n",
       "      <td>صفر</td>\n",
       "      <td>تهران</td>\n",
       "      <td>6 ثانیه</td>\n",
       "    </tr>\n",
       "    <tr>\n",
       "      <th>1</th>\n",
       "      <td>0912 672 0 962</td>\n",
       "      <td>11500000.0</td>\n",
       "      <td>صفر</td>\n",
       "      <td>تهران</td>\n",
       "      <td>6 ثانیه</td>\n",
       "    </tr>\n",
       "    <tr>\n",
       "      <th>2</th>\n",
       "      <td>0912 538 67 32</td>\n",
       "      <td>11150000.0</td>\n",
       "      <td>صفر</td>\n",
       "      <td>تهران</td>\n",
       "      <td>6 ثانیه</td>\n",
       "    </tr>\n",
       "    <tr>\n",
       "      <th>3</th>\n",
       "      <td>0912 794 7800</td>\n",
       "      <td>17600000.0</td>\n",
       "      <td>صفر</td>\n",
       "      <td>تهران</td>\n",
       "      <td>6 ثانیه</td>\n",
       "    </tr>\n",
       "    <tr>\n",
       "      <th>4</th>\n",
       "      <td>0912 216 91 46</td>\n",
       "      <td>27700000.0</td>\n",
       "      <td>صفر</td>\n",
       "      <td>تهران</td>\n",
       "      <td>6 ثانیه</td>\n",
       "    </tr>\n",
       "  </tbody>\n",
       "</table>\n",
       "</div>"
      ],
      "text/plain": [
       "     phone_number       price status   city     time\n",
       "0  0912 69 88 709  10250000.0    صفر  تهران  6 ثانیه\n",
       "1  0912 672 0 962  11500000.0    صفر  تهران  6 ثانیه\n",
       "2  0912 538 67 32  11150000.0    صفر  تهران  6 ثانیه\n",
       "3   0912 794 7800  17600000.0    صفر  تهران  6 ثانیه\n",
       "4  0912 216 91 46  27700000.0    صفر  تهران  6 ثانیه"
      ]
     },
     "execution_count": 40,
     "metadata": {},
     "output_type": "execute_result"
    }
   ],
   "source": [
    "df.head()"
   ]
  },
  {
   "cell_type": "code",
   "execution_count": 41,
   "id": "8dee1610-60b2-4918-a01f-037977236bee",
   "metadata": {},
   "outputs": [
    {
     "name": "stdout",
     "output_type": "stream",
     "text": [
      "<class 'pandas.core.frame.DataFrame'>\n",
      "RangeIndex: 40000 entries, 0 to 39999\n",
      "Data columns (total 5 columns):\n",
      " #   Column        Non-Null Count  Dtype  \n",
      "---  ------        --------------  -----  \n",
      " 0   phone_number  40000 non-null  object \n",
      " 1   price         39471 non-null  float64\n",
      " 2   status        40000 non-null  object \n",
      " 3   city          40000 non-null  object \n",
      " 4   time          39687 non-null  object \n",
      "dtypes: float64(1), object(4)\n",
      "memory usage: 1.5+ MB\n"
     ]
    }
   ],
   "source": [
    "df.info()"
   ]
  },
  {
   "cell_type": "code",
   "execution_count": 28,
   "id": "23d9a52b-6b97-4efe-922c-9d14b1e14dce",
   "metadata": {},
   "outputs": [
    {
     "name": "stdout",
     "output_type": "stream",
     "text": [
      "<class 'pandas.core.frame.DataFrame'>\n",
      "RangeIndex: 40000 entries, 0 to 39999\n",
      "Data columns (total 5 columns):\n",
      " #   Column        Non-Null Count  Dtype  \n",
      "---  ------        --------------  -----  \n",
      " 0   phone_number  40000 non-null  object \n",
      " 1   price         0 non-null      float64\n",
      " 2   status        40000 non-null  object \n",
      " 3   city          40000 non-null  object \n",
      " 4   time          39687 non-null  object \n",
      "dtypes: float64(1), object(4)\n",
      "memory usage: 1.5+ MB\n"
     ]
    }
   ],
   "source": [
    "df.info()"
   ]
  },
  {
   "cell_type": "code",
   "execution_count": 57,
   "id": "3fc35728-2858-4d24-8fcf-91bfbee3708a",
   "metadata": {},
   "outputs": [],
   "source": [
    "status_values = df.status.unique()"
   ]
  },
  {
   "cell_type": "code",
   "execution_count": 58,
   "id": "59ce29a8-ef9a-495f-9fa4-60ad3aa05319",
   "metadata": {},
   "outputs": [
    {
     "data": {
      "text/plain": [
       "array(['صفر', 'کارکرده', 'در حد صفر'], dtype=object)"
      ]
     },
     "execution_count": 58,
     "metadata": {},
     "output_type": "execute_result"
    }
   ],
   "source": [
    "status_values"
   ]
  },
  {
   "cell_type": "code",
   "execution_count": 59,
   "id": "0561616c-22d3-4be6-bd22-c2fc116852df",
   "metadata": {},
   "outputs": [],
   "source": [
    "status_values[1] , status_values[2] = status_values[2] , status_values[1]"
   ]
  },
  {
   "cell_type": "code",
   "execution_count": 60,
   "id": "90eff096-be7d-42bd-9b48-95425a850e64",
   "metadata": {},
   "outputs": [
    {
     "data": {
      "text/plain": [
       "array(['صفر', 'در حد صفر', 'کارکرده'], dtype=object)"
      ]
     },
     "execution_count": 60,
     "metadata": {},
     "output_type": "execute_result"
    }
   ],
   "source": [
    "status_values"
   ]
  },
  {
   "cell_type": "code",
   "execution_count": 61,
   "id": "63fa7575-a196-4bb3-b59f-d0d75f85c89e",
   "metadata": {},
   "outputs": [],
   "source": [
    "status_map = {status:index for index , status in enumerate(status_values)}"
   ]
  },
  {
   "cell_type": "code",
   "execution_count": 62,
   "id": "37688695-d81c-4879-8a92-74ac484cd138",
   "metadata": {},
   "outputs": [
    {
     "data": {
      "text/plain": [
       "{'صفر': 0, 'در حد صفر': 1, 'کارکرده': 2}"
      ]
     },
     "execution_count": 62,
     "metadata": {},
     "output_type": "execute_result"
    }
   ],
   "source": [
    "status_map"
   ]
  },
  {
   "cell_type": "code",
   "execution_count": 65,
   "id": "db245d1f-8a76-4388-bb3f-0f9ef8dcacde",
   "metadata": {},
   "outputs": [],
   "source": [
    "df.status = df.status.map(status_map)"
   ]
  },
  {
   "cell_type": "code",
   "execution_count": 66,
   "id": "fbd881ca-fb44-49cd-b3f4-262014bd3372",
   "metadata": {},
   "outputs": [
    {
     "data": {
      "text/plain": [
       "0        0\n",
       "1        0\n",
       "2        0\n",
       "3        0\n",
       "4        0\n",
       "        ..\n",
       "39995    0\n",
       "39996    0\n",
       "39997    0\n",
       "39998    0\n",
       "39999    0\n",
       "Name: status, Length: 40000, dtype: int64"
      ]
     },
     "execution_count": 66,
     "metadata": {},
     "output_type": "execute_result"
    }
   ],
   "source": [
    "df.status"
   ]
  },
  {
   "cell_type": "code",
   "execution_count": 67,
   "id": "4f126083-81ec-49c0-a08a-ddda9c25ceb7",
   "metadata": {},
   "outputs": [
    {
     "data": {
      "text/plain": [
       "array(['تهران', 'گرگان', 'آمل', 'شمیرانات', 'اصفهان', 'شيراز', 'گناوه',\n",
       "       'جهرم', 'رشت', 'کرج', 'قم', 'يزد', 'کرمان', 'اهواز', 'کرمانشاه',\n",
       "       'دماوند', 'همدان', 'اردبيل', 'مشهد', 'شهرضا', 'بابلسر', 'قزوين',\n",
       "       'کاشان', 'سمنان', 'ميانه', 'بندر عباس', 'ساری', 'اراک', 'تبريز',\n",
       "       'گراش', 'خنج', 'لارستان', 'بهارستان', 'ورامين', 'دشتستان',\n",
       "       'پيرانشهر', 'بابل', 'اسلام شهر', 'زنجان', 'نيشابور', 'دزفول',\n",
       "       'فردیس', 'رفسنجان', 'شاهين شهر و میمه', 'اروميه', 'ری', 'بوشهر',\n",
       "       'سنندج', 'ماکو', 'نائين', 'مبارکه', 'ساوه', 'بهشهر', 'رباط کريم',\n",
       "       'شهرکرد', 'اليگودرز', 'پارس آباد', 'لنگرود', 'کازرون', 'شهريار',\n",
       "       'آبادان', 'گنبد کاووس', 'ابهر', 'قشم', 'تربت حيدريه', 'گناباد',\n",
       "       'بندر ماهشهر'], dtype=object)"
      ]
     },
     "execution_count": 67,
     "metadata": {},
     "output_type": "execute_result"
    }
   ],
   "source": [
    "df.city.unique()"
   ]
  },
  {
   "cell_type": "code",
   "execution_count": null,
   "id": "d53f5162-3ab4-4fae-8f9f-fe70d22e6bba",
   "metadata": {},
   "outputs": [],
   "source": []
  }
 ],
 "metadata": {
  "kernelspec": {
   "display_name": "Python 3",
   "language": "python",
   "name": "python3"
  },
  "language_info": {
   "codemirror_mode": {
    "name": "ipython",
    "version": 3
   },
   "file_extension": ".py",
   "mimetype": "text/x-python",
   "name": "python",
   "nbconvert_exporter": "python",
   "pygments_lexer": "ipython3",
   "version": "3.9.5"
  }
 },
 "nbformat": 4,
 "nbformat_minor": 5
}
