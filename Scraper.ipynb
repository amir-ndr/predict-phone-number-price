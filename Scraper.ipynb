{
 "cells": [
  {
   "cell_type": "code",
   "execution_count": 1,
   "id": "f3c750f4-30b4-4f1d-b168-41ac5c53ec97",
   "metadata": {},
   "outputs": [],
   "source": [
    "import requests\n",
    "from bs4 import BeautifulSoup\n",
    "import pandas as pd"
   ]
  },
  {
   "cell_type": "code",
   "execution_count": 2,
   "id": "c016bdd6-5897-4ab3-9216-e39d0ac2a805",
   "metadata": {},
   "outputs": [],
   "source": [
    "CLASS_NAMES = [\"odTr\" , \"evendTr\"]\n",
    "PARENT_TAG = \"tr\"\n",
    "PRICE_TAG = \"span\"\n",
    "OTHERS_TAG = \"td\"\n",
    "PHONE = 0\n",
    "TIME = 3\n",
    "STATE = 4\n",
    "CITY = 5"
   ]
  },
  {
   "cell_type": "code",
   "execution_count": 3,
   "id": "0ee2cd4d-27fd-4685-9a66-cd0d108819a7",
   "metadata": {},
   "outputs": [],
   "source": [
    "address = {\n",
    "    \"class_names\":CLASS_NAMES,\n",
    "    \"parent_tag\":PARENT_TAG ,\n",
    "    \"price_tag\" : PRICE_TAG ,\n",
    "    \"others_tag\": OTHERS_TAG ,\n",
    "    \"index\":{\n",
    "        \"phone\":PHONE ,\n",
    "        \"time\":TIME ,\n",
    "        \"state\": STATE ,\n",
    "        \"city\": CITY\n",
    "    }\n",
    "}"
   ]
  },
  {
   "cell_type": "code",
   "execution_count": 4,
   "id": "11bf9fa0-57d7-4359-b3c3-4a7c8d16ce59",
   "metadata": {},
   "outputs": [],
   "source": [
    "class Scraper:\n",
    "    def __init__(self , url , pages , data_address , file_name):\n",
    "        self.url = url\n",
    "        self.pages = pages\n",
    "        self.address = data_address\n",
    "        self.df = pd.DataFrame(columns=[\"phone_number\" , \"price\" , \"status\" , \"city\" , \"time\"])\n",
    "        self.file_name = file_name\n",
    "        \n",
    "    @staticmethod    \n",
    "    def extract_single_record(desc):\n",
    "        price = desc.find(PRICE_TAG).text.strip()\n",
    "        others = desc.find_all(OTHERS_TAG)\n",
    "        phone_number = others[PHONE].text.strip()\n",
    "        time = others[TIME].text.strip()\n",
    "        state = others[STATE].text.strip()\n",
    "        city = others[CITY].text.strip()\n",
    "        record = {\n",
    "            \"phone_number\":phone_number,\n",
    "            \"price\":price,\n",
    "            \"status\":state,\n",
    "            \"city\":city,\n",
    "            \"time\":time\n",
    "        }\n",
    "        return record\n",
    "        \n",
    "    @staticmethod    \n",
    "    def get_page_contents(url):\n",
    "        page = requests.get(url)\n",
    "        return page\n",
    "    \n",
    "    def scrape_page(self , page):\n",
    "        records = []\n",
    "        rows = []\n",
    "        soup = BeautifulSoup(page.text, \"html.parser\")\n",
    "        for name in self.address[\"class_names\"]:\n",
    "            records.extend(soup.find_all(self.address[\"tag\"], class_=name))\n",
    "        for index , record in enumerate(records):\n",
    "            row = Scraper.extract_single_record(record)\n",
    "            rows.append(row)\n",
    "        \n",
    "        page_df = pd.DataFrame.from_dict(rows)\n",
    "        self.df = pd.concat([self.df , page_df] , axis=0)\n",
    "    \n",
    "        \n",
    "    def get_next_page_url(self , page_num):\n",
    "        start = self.url.find(\"page=\") + 5\n",
    "        return url[:start] + str(page_num) + url[start+1:]\n",
    "    \n",
    "    def save_data(self):\n",
    "        self.df.to_csv(self.file_name , index=False)\n",
    "    \n",
    "    def run(self):\n",
    "        for page_number in range(1,self.pages+1):\n",
    "            url = self.get_next_page_url(page_number)\n",
    "            page = Scraper.get_page_contents(url)\n",
    "            self.scrape_page(page)\n",
    "            print(f'page {page_number} scraped')\n",
    "        self.save_data()\n",
    "    "
   ]
  },
  {
   "cell_type": "code",
   "execution_count": 5,
   "id": "2b28470e-ec19-4ecc-aa5e-e6ffaba2693c",
   "metadata": {},
   "outputs": [],
   "source": [
    "url = \"https://www.rond.ir/SearchSim?page=1&StateId=0&CityId=0&SimOrderBy=Update\""
   ]
  },
  {
   "cell_type": "code",
   "execution_count": null,
   "id": "069793d6-3ea6-4a6a-9a69-0b0f0a08aa0e",
   "metadata": {},
   "outputs": [],
   "source": [
    "test = Scraper(url , 1000 , address , 'rond1000.csv')\n",
    "test.run()"
   ]
  },
  {
   "cell_type": "code",
   "execution_count": null,
   "id": "d1d87bbd-ff73-460b-8e89-06bd94b933a5",
   "metadata": {},
   "outputs": [],
   "source": []
  }
 ],
 "metadata": {
  "kernelspec": {
   "display_name": "Python 3",
   "language": "python",
   "name": "python3"
  },
  "language_info": {
   "codemirror_mode": {
    "name": "ipython",
    "version": 3
   },
   "file_extension": ".py",
   "mimetype": "text/x-python",
   "name": "python",
   "nbconvert_exporter": "python",
   "pygments_lexer": "ipython3",
   "version": "3.9.5"
  }
 },
 "nbformat": 4,
 "nbformat_minor": 5
}
