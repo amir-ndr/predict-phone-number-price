{
 "cells": [
  {
   "cell_type": "code",
   "execution_count": 1,
   "metadata": {
    "_cell_guid": "b1076dfc-b9ad-4769-8c92-a6c4dae69d19",
    "_uuid": "8f2839f25d086af736a60e9eeb907d3b93b6e0e5",
    "execution": {
     "iopub.execute_input": "2022-05-04T16:02:26.526108Z",
     "iopub.status.busy": "2022-05-04T16:02:26.525643Z",
     "iopub.status.idle": "2022-05-04T16:02:26.560566Z",
     "shell.execute_reply": "2022-05-04T16:02:26.559395Z",
     "shell.execute_reply.started": "2022-05-04T16:02:26.525993Z"
    }
   },
   "outputs": [],
   "source": [
    "# This Python 3 environment comes with many helpful analytics libraries installed\n",
    "# It is defined by the kaggle/python Docker image: https://github.com/kaggle/docker-python\n",
    "# For example, here's several helpful packages to load\n",
    "\n",
    "import numpy as np # linear algebra\n",
    "import pandas as pd # data processing, CSV file I/O (e.g. pd.read_csv)\n",
    "\n",
    "# Input data files are available in the read-only \"../input/\" directory\n",
    "# For example, running this (by clicking run or pressing Shift+Enter) will list all files under the input directory\n",
    "\n",
    "import os\n",
    "for dirname, _, filenames in os.walk('/kaggle/input'):\n",
    "    for filename in filenames:\n",
    "        print(os.path.join(dirname, filename))\n",
    "\n",
    "# You can write up to 20GB to the current directory (/kaggle/working/) that gets preserved as output when you create a version using \"Save & Run All\" \n",
    "# You can also write temporary files to /kaggle/temp/, but they won't be saved outside of the current session"
   ]
  },
  {
   "cell_type": "code",
   "execution_count": 10,
   "metadata": {
    "execution": {
     "iopub.execute_input": "2022-05-04T16:08:44.103985Z",
     "iopub.status.busy": "2022-05-04T16:08:44.102824Z",
     "iopub.status.idle": "2022-05-04T16:08:44.340007Z",
     "shell.execute_reply": "2022-05-04T16:08:44.339075Z",
     "shell.execute_reply.started": "2022-05-04T16:08:44.103937Z"
    }
   },
   "outputs": [],
   "source": [
    "%matplotlib inline\n",
    "import matplotlib.pyplot as plt  # Matlab-style plotting\n",
    "import seaborn as sns\n",
    "color = sns.color_palette()\n",
    "sns.set_style('darkgrid')\n",
    "import warnings\n",
    "def ignore_warn(*args, **kwargs):\n",
    "    pass\n",
    "warnings.warn = ignore_warn #ignore annoying warning (from sklearn and seaborn)\n",
    "from scipy import stats\n",
    "from scipy.stats import norm, skew #for some statistics\n",
    "from sklearn.model_selection import train_test_split"
   ]
  },
  {
   "cell_type": "code",
   "execution_count": 2,
   "metadata": {
    "execution": {
     "iopub.execute_input": "2022-05-04T16:02:52.526779Z",
     "iopub.status.busy": "2022-05-04T16:02:52.525647Z",
     "iopub.status.idle": "2022-05-04T16:02:52.785493Z",
     "shell.execute_reply": "2022-05-04T16:02:52.784576Z",
     "shell.execute_reply.started": "2022-05-04T16:02:52.526713Z"
    }
   },
   "outputs": [],
   "source": [
    "data = pd.read_csv(\"/kaggle/input/phone-number-price/preprocessed_with_features_rond1000.csv\")"
   ]
  },
  {
   "cell_type": "code",
   "execution_count": 5,
   "metadata": {
    "execution": {
     "iopub.execute_input": "2022-05-04T16:05:12.448880Z",
     "iopub.status.busy": "2022-05-04T16:05:12.447821Z",
     "iopub.status.idle": "2022-05-04T16:05:12.479423Z",
     "shell.execute_reply": "2022-05-04T16:05:12.478765Z",
     "shell.execute_reply.started": "2022-05-04T16:05:12.448835Z"
    }
   },
   "outputs": [],
   "source": [
    "data.head()"
   ]
  },
  {
   "cell_type": "code",
   "execution_count": 4,
   "metadata": {
    "execution": {
     "iopub.execute_input": "2022-05-04T16:05:04.903550Z",
     "iopub.status.busy": "2022-05-04T16:05:04.903205Z",
     "iopub.status.idle": "2022-05-04T16:05:04.942360Z",
     "shell.execute_reply": "2022-05-04T16:05:04.941482Z",
     "shell.execute_reply.started": "2022-05-04T16:05:04.903516Z"
    }
   },
   "outputs": [],
   "source": [
    "data.info()"
   ]
  },
  {
   "cell_type": "code",
   "execution_count": 7,
   "metadata": {
    "execution": {
     "iopub.execute_input": "2022-05-04T16:07:04.204052Z",
     "iopub.status.busy": "2022-05-04T16:07:04.203760Z",
     "iopub.status.idle": "2022-05-04T16:07:04.223516Z",
     "shell.execute_reply": "2022-05-04T16:07:04.221931Z",
     "shell.execute_reply.started": "2022-05-04T16:07:04.204023Z"
    }
   },
   "outputs": [],
   "source": [
    "data.drop(['phone_number' , 'Unnamed: 0'] , axis=1 , inplace=True)"
   ]
  },
  {
   "cell_type": "code",
   "execution_count": 8,
   "metadata": {
    "execution": {
     "iopub.execute_input": "2022-05-04T16:07:11.071898Z",
     "iopub.status.busy": "2022-05-04T16:07:11.071570Z",
     "iopub.status.idle": "2022-05-04T16:07:11.098723Z",
     "shell.execute_reply": "2022-05-04T16:07:11.097113Z",
     "shell.execute_reply.started": "2022-05-04T16:07:11.071866Z"
    }
   },
   "outputs": [],
   "source": [
    "data.head()"
   ]
  },
  {
   "cell_type": "code",
   "execution_count": 9,
   "metadata": {
    "execution": {
     "iopub.execute_input": "2022-05-04T16:07:55.258785Z",
     "iopub.status.busy": "2022-05-04T16:07:55.258469Z",
     "iopub.status.idle": "2022-05-04T16:07:55.272853Z",
     "shell.execute_reply": "2022-05-04T16:07:55.271981Z",
     "shell.execute_reply.started": "2022-05-04T16:07:55.258757Z"
    }
   },
   "outputs": [],
   "source": [
    "y = data.price\n",
    "X = data.drop(['price'] , axis=1)"
   ]
  },
  {
   "cell_type": "code",
   "execution_count": 11,
   "metadata": {
    "execution": {
     "iopub.execute_input": "2022-05-04T16:09:24.297094Z",
     "iopub.status.busy": "2022-05-04T16:09:24.296210Z",
     "iopub.status.idle": "2022-05-04T16:09:24.335093Z",
     "shell.execute_reply": "2022-05-04T16:09:24.334338Z",
     "shell.execute_reply.started": "2022-05-04T16:09:24.297053Z"
    }
   },
   "outputs": [],
   "source": [
    "X_train, X_test, y_train, y_test = train_test_split(X, y, test_size=0.2, random_state=42)"
   ]
  },
  {
   "cell_type": "code",
   "execution_count": 14,
   "metadata": {
    "execution": {
     "iopub.execute_input": "2022-05-04T16:11:12.060638Z",
     "iopub.status.busy": "2022-05-04T16:11:12.059573Z",
     "iopub.status.idle": "2022-05-04T16:11:12.358510Z",
     "shell.execute_reply": "2022-05-04T16:11:12.357805Z",
     "shell.execute_reply.started": "2022-05-04T16:11:12.060598Z"
    }
   },
   "outputs": [],
   "source": [
    "fig, ax = plt.subplots(figsize=(10,5))\n",
    "ax.scatter(x = X_train.time, y = y_train)\n",
    "plt.ylabel('Price', fontsize=13)\n",
    "plt.xlabel('time', fontsize=13)\n",
    "plt.show()"
   ]
  },
  {
   "cell_type": "code",
   "execution_count": 19,
   "metadata": {
    "execution": {
     "iopub.execute_input": "2022-05-04T16:16:06.710005Z",
     "iopub.status.busy": "2022-05-04T16:16:06.709701Z",
     "iopub.status.idle": "2022-05-04T16:16:07.557622Z",
     "shell.execute_reply": "2022-05-04T16:16:07.556464Z",
     "shell.execute_reply.started": "2022-05-04T16:16:06.709966Z"
    }
   },
   "outputs": [],
   "source": [
    "plt.figure(figsize=(10,8))\n",
    "sns.distplot(y_train , fit=norm);\n",
    "\n",
    "# Get the fitted parameters used by the function\n",
    "(mu, sigma) = norm.fit(y_train)\n",
    "print( '\\n mu = {:.2f} and sigma = {:.2f}\\n'.format(mu, sigma))\n",
    "\n",
    "#Now plot the distribution\n",
    "#plt.legend(['Normal dist. ($\\mu=$ {:.2f} and $\\sigma=$ {:.2f} )'.format(mu, sigma)],\n",
    "            #loc='best')\n",
    "#plt.ylabel('Frequency')\n",
    "#plt.title('Price distribution')\n",
    "\n",
    "#Get also the QQ-plot\n",
    "fig = plt.figure(figsize=(10,8))\n",
    "res = stats.probplot(y_train, plot=plt)\n",
    "plt.show()"
   ]
  },
  {
   "cell_type": "code",
   "execution_count": 20,
   "metadata": {
    "execution": {
     "iopub.execute_input": "2022-05-04T16:17:24.145292Z",
     "iopub.status.busy": "2022-05-04T16:17:24.144954Z",
     "iopub.status.idle": "2022-05-04T16:17:24.960097Z",
     "shell.execute_reply": "2022-05-04T16:17:24.959146Z",
     "shell.execute_reply.started": "2022-05-04T16:17:24.145259Z"
    }
   },
   "outputs": [],
   "source": [
    "y_train = np.log1p(y_train)\n",
    "\n",
    "#Check the new distribution \n",
    "sns.distplot(y_train , fit=norm);\n",
    "\n",
    "# Get the fitted parameters used by the function\n",
    "(mu, sigma) = norm.fit(y_train)\n",
    "print( '\\n mu = {:.2f} and sigma = {:.2f}\\n'.format(mu, sigma))\n",
    "\n",
    "#Now plot the distribution\n",
    "#plt.legend(['Normal dist. ($\\mu=$ {:.2f} and $\\sigma=$ {:.2f} )'.format(mu, sigma)],\n",
    " #           loc='best')\n",
    "#plt.ylabel('Frequency')\n",
    "#plt.title('SalePrice distribution')\n",
    "\n",
    "#Get also the QQ-plot\n",
    "fig = plt.figure()\n",
    "res = stats.probplot(y_train, plot=plt)\n",
    "plt.show()"
   ]
  },
  {
   "cell_type": "code",
   "execution_count": 22,
   "metadata": {
    "execution": {
     "iopub.execute_input": "2022-05-04T16:20:17.843183Z",
     "iopub.status.busy": "2022-05-04T16:20:17.842292Z",
     "iopub.status.idle": "2022-05-04T16:20:19.408860Z",
     "shell.execute_reply": "2022-05-04T16:20:19.408056Z",
     "shell.execute_reply.started": "2022-05-04T16:20:17.843140Z"
    }
   },
   "outputs": [],
   "source": [
    "X_train['price'] = y_train\n",
    "corrmat = X_train.corr()\n",
    "plt.subplots(figsize=(12,9))\n",
    "sns.heatmap(corrmat, vmax=0.9, square=True)"
   ]
  },
  {
   "cell_type": "code",
   "execution_count": 23,
   "metadata": {
    "execution": {
     "iopub.execute_input": "2022-05-04T16:22:39.199683Z",
     "iopub.status.busy": "2022-05-04T16:22:39.199403Z",
     "iopub.status.idle": "2022-05-04T16:22:39.261055Z",
     "shell.execute_reply": "2022-05-04T16:22:39.260269Z",
     "shell.execute_reply.started": "2022-05-04T16:22:39.199655Z"
    }
   },
   "outputs": [],
   "source": [
    "numeric_feats = data.dtypes[data.dtypes != \"object\"].index\n",
    "\n",
    "# Check the skew of all numerical features\n",
    "skewed_feats = data[numeric_feats].apply(lambda x: skew(x.dropna())).sort_values(ascending=False)\n",
    "print(\"\\nSkew in numerical features: \\n\")\n",
    "skewness = pd.DataFrame({'Skew' :skewed_feats})\n",
    "skewness.head(10)"
   ]
  },
  {
   "cell_type": "code",
   "execution_count": null,
   "metadata": {},
   "outputs": [],
   "source": []
  }
 ],
 "metadata": {
  "kernelspec": {
   "display_name": "Python 3",
   "language": "python",
   "name": "python3"
  },
  "language_info": {
   "codemirror_mode": {
    "name": "ipython",
    "version": 3
   },
   "file_extension": ".py",
   "mimetype": "text/x-python",
   "name": "python",
   "nbconvert_exporter": "python",
   "pygments_lexer": "ipython3",
   "version": "3.9.5"
  }
 },
 "nbformat": 4,
 "nbformat_minor": 4
}
